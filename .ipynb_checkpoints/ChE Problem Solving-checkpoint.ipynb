{
 "cells": [
  {
   "cell_type": "markdown",
   "metadata": {},
   "source": [
    "##Getting Started:"
   ]
  },
  {
   "cell_type": "markdown",
   "metadata": {},
   "source": [
    "This is an IPython notebook.  IPython notebooks are open-source programming tools that run in a web browser, and offer a lot of flexibility and power for scientific computing tasks.  Because they are portable and self-contained, they are ideal for education and [reproducable research](http://reproducibleresearch.net/). Notebooks are made of a single column of 'cells' that usually consist of markdown or code.  Markdown cells like this one and the one above support basic [markdown formatting](https://en.wikipedia.org/wiki/Markdown), as well as $\\LaTeX$ statements.  The cell below is a code cell, which runs Python code interactively if you use your personal computer or a cloud service like [Domino](https://app.dominodatalab.com/jakealbrecht/ChE_problemSolving).  The Python commands can be run over and over, or the background processes can be stopped or restarted without affecting this notebook.  Did I mention flexibility? Cells can be reordered, and the whole notebook can be saved as a PDF document, or can be hosted as a static webpage on sites like [nbviewer](http://nbviewer.ipython.org/github/chepyle/ChE_ProblemSolving/blob/master/ChE%20Problem%20Solving.ipynb).\n",
    "\n",
    "Scientific applications of the Python progamming language have increased dramatically over the past few years.  Its simplicity, versatility, and power has made it a first-choice language for many scientists and engineers.  Just enter \"`import antigravity`\" in a code cell or at a Python prompt to see the zeal Python inspires.\n",
    "\n",
    "To get started, the main function libraries in Python for working with numbers are `numpy` and `pandas`. Standard numerical methods are often in the `scipy` library.  The `sklearn` library has fitting and regression, and `matplotlib` is used for matlab-style plots.  To begin our Python session, these libraries and some specific functions are imported in the cell below:"
   ]
  },
  {
   "cell_type": "code",
   "execution_count": 1,
   "metadata": {
    "collapsed": true
   },
   "outputs": [],
   "source": [
    "import numpy as np\n",
    "import pandas as pd\n",
    "from scipy.optimize import fsolve\n",
    "from scipy.optimize import curve_fit\n",
    "from scipy.integrate import odeint\n",
    "\n",
    "from sklearn.pipeline import make_pipeline\n",
    "from sklearn.preprocessing import PolynomialFeatures\n",
    "from sklearn.linear_model import LinearRegression\n",
    "\n",
    "import matplotlib.pyplot as plt\n",
    "# turn on inline plotting for this notebook:\n",
    "%matplotlib inline"
   ]
  },
  {
   "cell_type": "markdown",
   "metadata": {},
   "source": [
    "# Reference"
   ]
  },
  {
   "cell_type": "markdown",
   "metadata": {},
   "source": [
    "This hastily written notebook attempts to replicate the workflow and results of M. Shacham's \"Using Templates for Demonstrating Good Programming Practices\" submitted to the 2015 Annual AIChE meeting: [ftp site](ftp://ftp.bgu.ac.il/shacham/templates/)\n",
    "\n"
   ]
  },
  {
   "cell_type": "markdown",
   "metadata": {},
   "source": [
    "#Basic Numerical Problem Solving with Python"
   ]
  },
  {
   "cell_type": "markdown",
   "metadata": {},
   "source": [
    "##One Nonlinear (Implicit) Algebraic Equation"
   ]
  },
  {
   "cell_type": "markdown",
   "metadata": {},
   "source": [
    "Solve the followng system of equations:\n",
    "\n",
    "$$P=\\frac{RT}{\\left(V-b\\right)}-\\frac{\\alpha a}{V\\left(V+b\\right)}$$\n",
    "\n",
    "where:\n",
    "\n",
    "$$a=0.42747\\left(\\frac{R^2T_c^2}{P_c}\\right)$$\n",
    "\n",
    "$$b=0.08664\\left(\\frac{RT_c}{P_c}\\right)$$\n",
    "\n",
    "$$m=0.48508+1.55171\\bar{\\omega}-0.1561\\bar{\\omega}^2$$\n",
    "\n",
    "$$\\alpha=\\left[1+m\\left(1-\\sqrt{T/T_c}\\right)\\right]$$"
   ]
  },
  {
   "cell_type": "markdown",
   "metadata": {},
   "source": [
    "Create a Python function for the first equation, set equal to zero:"
   ]
  },
  {
   "cell_type": "code",
   "execution_count": 2,
   "metadata": {
    "collapsed": true
   },
   "outputs": [],
   "source": [
    "def f(V):\n",
    "    return R*T/(V-b)-alph*a/(V*(V+b))-P"
   ]
  },
  {
   "cell_type": "markdown",
   "metadata": {},
   "source": [
    "Enter some constants"
   ]
  },
  {
   "cell_type": "code",
   "execution_count": 3,
   "metadata": {
    "collapsed": false
   },
   "outputs": [],
   "source": [
    "R=0.08206 #Gas constant (L-atm/gmol-K)\n",
    "P_c=72.9\n",
    "T_c=304.2\n",
    "w_bar=0.225\n",
    "T=300.\n",
    "P=100.\n",
    "a=0.42747*(R**2.0*T_c**2.0/P_c)\n",
    "b=0.08664*(R*T_c/P_c)\n",
    "m=0.48508+1.55171*w_bar-0.1561*w_bar**2\n",
    "alph=(1+m*(1-np.sqrt(T/T_c)))**2"
   ]
  },
  {
   "cell_type": "markdown",
   "metadata": {},
   "source": [
    "Print out values, and solve equation with initial guess"
   ]
  },
  {
   "cell_type": "code",
   "execution_count": 4,
   "metadata": {
    "collapsed": false
   },
   "outputs": [
    {
     "name": "stdout",
     "output_type": "stream",
     "text": [
      "initial f(V0)= -19.366385\n",
      "a = 3.653924\n",
      "b = 0.029668\n",
      "m = 0.826312\n",
      "alpha = 1.011481\n",
      "V= 0.064113\n"
     ]
    }
   ],
   "source": [
    "print('initial f(V0)= %f' %f(0.07))\n",
    "print('a = %f' %a)\n",
    "print('b = %f' %b)\n",
    "print('m = %f' %m)\n",
    "print('alpha = %f' %(alph))\n",
    "print('V= %f' %(fsolve(f,0.07))) # Print out solution result"
   ]
  },
  {
   "cell_type": "markdown",
   "metadata": {},
   "source": [
    "The final result of the optimization is $V = 0.0641$"
   ]
  },
  {
   "cell_type": "markdown",
   "metadata": {},
   "source": [
    "## A System of Nonlinear Algebraic Equations (NLE)"
   ]
  },
  {
   "cell_type": "markdown",
   "metadata": {},
   "source": [
    "The following is a system of ultrafiltration equations from Cutlip and Shackam, 2013\n",
    "\n",
    "$$Q_1c_1=Q_0c_0$$\n",
    "\n",
    "$$Q_1=Q_0-j_1A$$\n",
    "\n",
    "$$j_1=k\\ln\\left(c_g/c_1\\right)$$\n",
    "\n",
    "$$Q_2c_2=Q_1c_1$$\n",
    "\n",
    "$$j_2=k\\ln\\left(c_g/c_2\\right)$$\n",
    "\n",
    "$$Q_3c_3=Q_2c_2$$\n",
    "\n",
    "$$Q_3=Q_2-j_3A$$\n",
    "\n",
    "$$j_3=k\\ln\\left(c_g/c_3\\right)$$\n",
    "\n",
    "$$Q_0=1/(60\\times1000)$$\n",
    "\n",
    "$$k=3.5e-6$$"
   ]
  },
  {
   "cell_type": "code",
   "execution_count": 5,
   "metadata": {
    "collapsed": false
   },
   "outputs": [],
   "source": [
    "cg=300\n",
    "c0=10\n",
    "A=0.9\n",
    "k=3.5e-6\n",
    "Q0=1/(60.0*1000.0)\n",
    "Const=[cg,c0,A,k,Q0]\n",
    "xguess=[40.0,70.0,150.0]\n",
    "\n",
    "def Evarfun(x,Const):\n",
    "    c1,c2,c3 = x # unpack concentrations\n",
    "    cg,c0,A,k,Q0 = Const # unpack constants\n",
    "    j1=k*np.log(cg/c1)\n",
    "    Q1=c0*Q0/c1\n",
    "    j2=k*np.log(cg/c2)\n",
    "    Q2=c1*Q1/c2\n",
    "    j3=k*np.log(cg/c3)\n",
    "    Q3=c2*Q2/c3\n",
    "    Evar=[j1,j2,j3,Q1,Q2,Q3]\n",
    "    return Evar\n",
    "\n",
    "def MNLEfun(x,Const):\n",
    "    c1,c2,c3=x# unpack concentrations\n",
    "    cg,c0,A,k,Q0 = Const # unpack constants\n",
    "    j1=k*np.log(cg/c1)\n",
    "    Q1=c0*Q0/c1\n",
    "    j2=k*np.log(cg/c2)\n",
    "    Q2=c1*Q1/c2\n",
    "    j3=k*np.log(cg/c3)\n",
    "    Q3=c2*Q2/c3\n",
    "    fx=[Q0-Q1-(j1*A),Q1-Q2-(j2*A),Q2-Q3-(j3*A)]\n",
    "    return fx\n"
   ]
  },
  {
   "cell_type": "markdown",
   "metadata": {},
   "source": [
    "Check function values at initial guesses:"
   ]
  },
  {
   "cell_type": "code",
   "execution_count": 6,
   "metadata": {
    "collapsed": false
   },
   "outputs": [
    {
     "name": "stdout",
     "output_type": "stream",
     "text": [
      "j1: 7.05e-06\n",
      "j2: 5.09e-06\n",
      "j3: 2.43e-06\n",
      "Q1: 4.17e-06\n",
      "Q2: 2.38e-06\n",
      "Q3: 1.11e-06\n"
     ]
    }
   ],
   "source": [
    "evars_initial=Evarfun(xguess,Const)\n",
    "var_names=['j1: ','j2: ','j3: ','Q1: ','Q2: ','Q3: ']\n",
    "for var in zip(var_names,evars_initial):\n",
    "    print(var[0]+'{:.2e}'.format(var[1]))"
   ]
  },
  {
   "cell_type": "markdown",
   "metadata": {},
   "source": [
    "OK, it is time to solve, note that the solver tolerance `xtol` must be reduced due to the very small function values:"
   ]
  },
  {
   "cell_type": "code",
   "execution_count": 7,
   "metadata": {
    "collapsed": false
   },
   "outputs": [
    {
     "name": "stdout",
     "output_type": "stream",
     "text": [
      "c1 = 20.35 \n",
      "c2 = 56.67 \n",
      "c3 = 163.12\n",
      "function values = [0.0, 0.0, -4.2351647362715017e-22]\n",
      "j1: 9.42e-06\n",
      "j2: 5.83e-06\n",
      "j3: 2.13e-06\n",
      "Q1: 8.19e-06\n",
      "Q2: 2.94e-06\n",
      "Q3: 1.02e-06\n"
     ]
    }
   ],
   "source": [
    "c=fsolve(MNLEfun,xguess,args=Const,xtol=1e-13)\n",
    "print('c1 = %.2f \\nc2 = %.2f \\nc3 = %.2f' %(c[0],c[1],c[2]))\n",
    "print('function values = ' + str(MNLEfun(c,Const)))\n",
    "evars_final=Evarfun(c,Const)\n",
    "for var in zip(var_names,evars_final):\n",
    "    print(var[0]+'{:.2e}'.format(var[1]))"
   ]
  },
  {
   "cell_type": "markdown",
   "metadata": {},
   "source": [
    "We are able to solve the equations for the values of $c_1,c_2$ and $c_3$ , note that the objective function values are all *very nearly* zero, indicating that we have accurately fit our model. The $c$ values as well as the $Q$ and $j$ values now fully describe the unit operation."
   ]
  },
  {
   "cell_type": "markdown",
   "metadata": {},
   "source": [
    "## Systems of First-Order Ordinary Differential Equations (ODEs) - Initial Value Problems (IVPs)"
   ]
  },
  {
   "cell_type": "markdown",
   "metadata": {},
   "source": [
    "Multicomponent gas diffusion is described by the following system of equations:\n",
    "\n",
    "$$ \\frac{dC_A}{dz}=\\frac{x_AN_B-x_BN_A}{D_{AB}}+\\frac{x_AN_C-x_CN_A}{D_{AC}}$$\n",
    "\n",
    "$$ \\frac{dC_B}{dz}=\\frac{x_BN_A-x_AN_B}{D_{AB}}+\\frac{x_BN_C-x_CN_B}{D_{BC}}$$\n",
    "\n",
    "$$ \\frac{dC_C}{dz}=\\frac{x_CN_A-x_AN_C}{D_{AC}}+\\frac{x_CN_B-x_BN_C}{D_{BC}}$$\n",
    "\n",
    "$$x_A=C_A/C_T$$\n",
    "\n",
    "$$x_B=C_B/C_T$$\n",
    "\n",
    "$$x_C=C_C/C_T$$\n",
    "\n",
    "$$N_A=2.115\\times10^{-4}$$\n",
    "\n",
    "$$N_B=-4.143\\times10^{-4}$$\n",
    "\n",
    "$$N_C=0$$\n",
    "\n",
    "$$D_{AB}=1.47\\times10^{-4}$$\n",
    "\n",
    "$$D_{AC}=1.075\\times10^{-4}$$\n",
    "\n",
    "$$D_{BC}=1.245\\times10^{-4}$$\n",
    "\n",
    "$$C_T=0.2/(0.082057\\times328)$$\n"
   ]
  },
  {
   "cell_type": "markdown",
   "metadata": {},
   "source": [
    "Define the function that calculates the derivatives at any point in time"
   ]
  },
  {
   "cell_type": "code",
   "execution_count": 8,
   "metadata": {
    "collapsed": true
   },
   "outputs": [],
   "source": [
    "def ODEfun(Yfunvec,z,NA,NB,NC,DAB,DBC,DAC,CT):\n",
    "    CA,CB,CC=Yfunvec\n",
    "    xA=CA/CT\n",
    "    xB=CB/CT\n",
    "    xC=CC/CT\n",
    "    dCAdz=(xA*NB-(xB*NA))/DAB+(xA*NC-(xC*NA))/DAC\n",
    "    dCBdz=(xB*NA-(xA*NB))/DAB+(xB*NC-(xC*NB))/DBC\n",
    "    dCCdz=(xC*NA-(xA*NC))/DAC+(xC*NB-(xB*NC))/DBC\n",
    "    return np.array([dCAdz,dCBdz,dCCdz])\n",
    "    "
   ]
  },
  {
   "cell_type": "markdown",
   "metadata": {},
   "source": [
    "Now, define the constants and run the integration"
   ]
  },
  {
   "cell_type": "code",
   "execution_count": 9,
   "metadata": {
    "collapsed": false
   },
   "outputs": [],
   "source": [
    "NA=0.00002115\n",
    "NB=-0.0004143\n",
    "NC=0\n",
    "DAB=0.000147\n",
    "DBC=0.0001245\n",
    "DAC=0.0001075\n",
    "CT=0.2/(0.082057*328)\n",
    "Const=NA,NB,NC,DAB,DBC,DAC,CT\n",
    "\n",
    "y0=[0.00022290,0,0.007208]\n",
    "tspan=np.linspace(0,0.001,40)\n",
    "ty=odeint(ODEfun,y0,tspan,args=Const)"
   ]
  },
  {
   "cell_type": "markdown",
   "metadata": {},
   "source": [
    "Plot the results:"
   ]
  },
  {
   "cell_type": "code",
   "execution_count": 10,
   "metadata": {
    "collapsed": false
   },
   "outputs": [
    {
     "data": {
      "text/plain": [
       "<matplotlib.text.Text at 0x7fe928e66ed0>"
      ]
     },
     "execution_count": 10,
     "metadata": {},
     "output_type": "execute_result"
    },
    {
     "data": {
      "image/png": "[encoded data removed]",
      "text/plain": [
       "<matplotlib.figure.Figure at 0x7fe928e70ad0>"
      ]
     },
     "metadata": {},
     "output_type": "display_data"
    }
   ],
   "source": [
    "plt.plot(tspan,ty)\n",
    "plt.legend(['$C_A$','$C_B$','$C_C$'])\n",
    "plt.xlabel('z (m)')\n",
    "plt.ylabel('Dependent variable')"
   ]
  },
  {
   "cell_type": "markdown",
   "metadata": {},
   "source": [
    "Using our ODEs, we have described the gas concentrations over distance for the diffusion problem.  "
   ]
  },
  {
   "cell_type": "markdown",
   "metadata": {},
   "source": [
    "## Linear and Polynomial Regression"
   ]
  },
  {
   "cell_type": "markdown",
   "metadata": {},
   "source": [
    "Regressing model parameters for a linear or polynomial equation is very common and straightforward.  The goal in each case is determining the parameter values $b_0, b_1...b_n$ given a set of observations $y_i$ at different inputs $x_i$. \n",
    "\n",
    "The form of a linear equation is:\n",
    "\n",
    "$$\\hat{y_i}=b_0+b_1x_i$$\n",
    "\n",
    "For a polynomial:\n",
    "\n",
    "$$\\hat{y_i}=b_0+b_1x_i+b_2x_i^2+...+b_nx_i^n$$\n",
    "\n",
    "Where $\\hat{y_i}$ is the calculated observation.  The goal of the regression is to find values of $b$ so that $\\hat{y_i}$ matches $y_i$ for each of the values of $x_i$.  To do regression, we need data, which is typically a table.  For working with tables of data, the python `pandas` library is indespensible"
   ]
  },
  {
   "cell_type": "code",
   "execution_count": 11,
   "metadata": {
    "collapsed": false
   },
   "outputs": [
    {
     "data": {
      "text/html": [
       "<div>\n",
       "<table border=\"1\" class=\"dataframe\">\n",
       "  <thead>\n",
       "    <tr style=\"text-align: right;\">\n",
       "      <th></th>\n",
       "      <th>Temperature</th>\n",
       "      <th>Pressure</th>\n",
       "    </tr>\n",
       "  </thead>\n",
       "  <tbody>\n",
       "    <tr>\n",
       "      <th>0</th>\n",
       "      <td>290.08</td>\n",
       "      <td>8634</td>\n",
       "    </tr>\n",
       "    <tr>\n",
       "      <th>1</th>\n",
       "      <td>302.39</td>\n",
       "      <td>15388</td>\n",
       "    </tr>\n",
       "    <tr>\n",
       "      <th>2</th>\n",
       "      <td>311.19</td>\n",
       "      <td>22484</td>\n",
       "    </tr>\n",
       "    <tr>\n",
       "      <th>3</th>\n",
       "      <td>318.69</td>\n",
       "      <td>30464</td>\n",
       "    </tr>\n",
       "    <tr>\n",
       "      <th>4</th>\n",
       "      <td>325.10</td>\n",
       "      <td>38953</td>\n",
       "    </tr>\n",
       "    <tr>\n",
       "      <th>5</th>\n",
       "      <td>330.54</td>\n",
       "      <td>47571</td>\n",
       "    </tr>\n",
       "    <tr>\n",
       "      <th>6</th>\n",
       "      <td>334.89</td>\n",
       "      <td>55511</td>\n",
       "    </tr>\n",
       "    <tr>\n",
       "      <th>7</th>\n",
       "      <td>338.94</td>\n",
       "      <td>63815</td>\n",
       "    </tr>\n",
       "    <tr>\n",
       "      <th>8</th>\n",
       "      <td>342.95</td>\n",
       "      <td>72985</td>\n",
       "    </tr>\n",
       "    <tr>\n",
       "      <th>9</th>\n",
       "      <td>346.24</td>\n",
       "      <td>81275</td>\n",
       "    </tr>\n",
       "    <tr>\n",
       "      <th>10</th>\n",
       "      <td>349.91</td>\n",
       "      <td>91346</td>\n",
       "    </tr>\n",
       "    <tr>\n",
       "      <th>11</th>\n",
       "      <td>353.47</td>\n",
       "      <td>102040</td>\n",
       "    </tr>\n",
       "    <tr>\n",
       "      <th>12</th>\n",
       "      <td>356.19</td>\n",
       "      <td>110850</td>\n",
       "    </tr>\n",
       "    <tr>\n",
       "      <th>13</th>\n",
       "      <td>358.87</td>\n",
       "      <td>120140</td>\n",
       "    </tr>\n",
       "    <tr>\n",
       "      <th>14</th>\n",
       "      <td>362.29</td>\n",
       "      <td>132780</td>\n",
       "    </tr>\n",
       "    <tr>\n",
       "      <th>15</th>\n",
       "      <td>365.23</td>\n",
       "      <td>144530</td>\n",
       "    </tr>\n",
       "    <tr>\n",
       "      <th>16</th>\n",
       "      <td>367.90</td>\n",
       "      <td>155800</td>\n",
       "    </tr>\n",
       "    <tr>\n",
       "      <th>17</th>\n",
       "      <td>370.53</td>\n",
       "      <td>167600</td>\n",
       "    </tr>\n",
       "    <tr>\n",
       "      <th>18</th>\n",
       "      <td>373.15</td>\n",
       "      <td>180060</td>\n",
       "    </tr>\n",
       "    <tr>\n",
       "      <th>19</th>\n",
       "      <td>375.84</td>\n",
       "      <td>193530</td>\n",
       "    </tr>\n",
       "    <tr>\n",
       "      <th>20</th>\n",
       "      <td>378.52</td>\n",
       "      <td>207940</td>\n",
       "    </tr>\n",
       "    <tr>\n",
       "      <th>21</th>\n",
       "      <td>381.32</td>\n",
       "      <td>223440</td>\n",
       "    </tr>\n",
       "  </tbody>\n",
       "</table>\n",
       "</div>"
      ],
      "text/plain": [
       "    Temperature  Pressure\n",
       "0        290.08      8634\n",
       "1        302.39     15388\n",
       "2        311.19     22484\n",
       "3        318.69     30464\n",
       "4        325.10     38953\n",
       "5        330.54     47571\n",
       "6        334.89     55511\n",
       "7        338.94     63815\n",
       "8        342.95     72985\n",
       "9        346.24     81275\n",
       "10       349.91     91346\n",
       "11       353.47    102040\n",
       "12       356.19    110850\n",
       "13       358.87    120140\n",
       "14       362.29    132780\n",
       "15       365.23    144530\n",
       "16       367.90    155800\n",
       "17       370.53    167600\n",
       "18       373.15    180060\n",
       "19       375.84    193530\n",
       "20       378.52    207940\n",
       "21       381.32    223440"
      ]
     },
     "execution_count": 11,
     "metadata": {},
     "output_type": "execute_result"
    }
   ],
   "source": [
    "# input data points\n",
    "T=[290.08, 302.39, 311.19, 318.69, 325.1, 330.54, 334.89, 338.94,\n",
    "   342.95, 346.24, 349.91, 353.47, 356.19, 358.87, 362.29, 365.23,\n",
    "   367.9, 370.53, 373.15, 375.84, 378.52, 381.32,]\n",
    "P=[8634, 15388, 22484, 30464, 38953, 47571, 55511, 63815, 72985,\n",
    "   81275, 91346.0, 102040, 110850, 120140, 132780, 144530, 155800,\n",
    "   167600, 180060, 193530, 207940, 223440]\n",
    "\n",
    "# convert to data table- first stick T to P, then transpose and add labels\n",
    "data=pd.DataFrame(np.transpose(np.vstack((T,P))),columns=['Temperature','Pressure'])\n",
    "data # print out data table"
   ]
  },
  {
   "cell_type": "code",
   "execution_count": 12,
   "metadata": {
    "collapsed": false
   },
   "outputs": [],
   "source": [
    "# Temperature and pressure are changed to column vectors for sklearn\n",
    "X=data['Temperature'].values[:,np.newaxis] \n",
    "y=data['Pressure'].values[:,np.newaxis]\n",
    "model=make_pipeline(PolynomialFeatures(degree=3), LinearRegression())\n",
    "model.fit(X,y)\n",
    "yhat=model.predict(X)"
   ]
  },
  {
   "cell_type": "markdown",
   "metadata": {},
   "source": [
    "Make plot of predicted vs. measured pressures, get your magnifying glasses..."
   ]
  },
  {
   "cell_type": "code",
   "execution_count": 13,
   "metadata": {
    "collapsed": false
   },
   "outputs": [
    {
     "data": {
      "image/png": "[encoded data removed]",
      "text/plain": [
       "<matplotlib.figure.Figure at 0x7fe928d80c90>"
      ]
     },
     "metadata": {},
     "output_type": "display_data"
    }
   ],
   "source": [
    "plt.plot(X,y,'b*',label='Experimental')\n",
    "plt.plot(X,y,'g+',label='Calculated')\n",
    "plt.legend(loc='best')\n",
    "plt.xlabel('Temp (K)')\n",
    "plt.ylabel('Press. (Pa)')\n",
    "plt.show()"
   ]
  },
  {
   "cell_type": "markdown",
   "metadata": {},
   "source": [
    "The experimental and calculated data points nearly overlap!\n",
    "\n",
    "The plot of the residuals shows more diagnostics- the fact that these residual points are not randomly distributed indicates the equation we are fitting is not ideal:"
   ]
  },
  {
   "cell_type": "code",
   "execution_count": 14,
   "metadata": {
    "collapsed": false
   },
   "outputs": [
    {
     "data": {
      "text/plain": [
       "<matplotlib.text.Text at 0x7fe9260b1250>"
      ]
     },
     "execution_count": 14,
     "metadata": {},
     "output_type": "execute_result"
    },
    {
     "data": {
      "image/png": "[encoded data removed]",
      "text/plain": [
       "<matplotlib.figure.Figure at 0x7fe92618c4d0>"
      ]
     },
     "metadata": {},
     "output_type": "display_data"
    }
   ],
   "source": [
    "plt.plot(y,y-yhat,'b*')\n",
    "plt.xlabel('Press. (measured, Pa)')\n",
    "plt.ylabel('Residual')\n",
    "plt.title('RMSE=%.1f Pa' %(np.sqrt(sum((y-yhat)**2))))"
   ]
  },
  {
   "cell_type": "markdown",
   "metadata": {},
   "source": [
    "The results from the polynomial fitting show a non-random trend in the residuals- this model is not ideal to describe the data...\n",
    "\n",
    "To use the Riedel equation, which is a linear combination of some (nonlinear) treaments of the Temperature data:\n",
    "\n",
    "$$ \\log(P)=b_0+\\frac{b_1}{T}+b_2\\log(T)+b_3T^2$$\n",
    "\n",
    "We calculate the $T$-containing terms, then stack them together and perform multiple linear regression:"
   ]
  },
  {
   "cell_type": "code",
   "execution_count": 15,
   "metadata": {
    "collapsed": false
   },
   "outputs": [],
   "source": [
    "T=data['Temperature'].values[:,np.newaxis] # Temperature and pressure are changed to column vectors\n",
    "X=np.hstack((np.ones(T.shape),1/T,np.log10(T),T**2))\n",
    "y=np.log10(data['Pressure'].values[:,np.newaxis])\n",
    "model=LinearRegression(fit_intercept=False)\n",
    "model.fit(X,y)\n",
    "yhat=model.predict(X)"
   ]
  },
  {
   "cell_type": "markdown",
   "metadata": {},
   "source": [
    "Spit out $b$ parameters:"
   ]
  },
  {
   "cell_type": "code",
   "execution_count": 16,
   "metadata": {
    "collapsed": false
   },
   "outputs": [
    {
     "name": "stdout",
     "output_type": "stream",
     "text": [
      "b_0 = 4.04e+01\n",
      "b_1 = -2.96e+03\n",
      "b_2 = -1.08e+01\n",
      "b_3 = 4.08e-06\n"
     ]
    }
   ],
   "source": [
    "for ix,b in enumerate(model.coef_.tolist()[0]):  # print out the coefficients\n",
    "    print('b_%d = %.2e' %(ix,b))"
   ]
  },
  {
   "cell_type": "markdown",
   "metadata": {},
   "source": [
    "Plot residuals:"
   ]
  },
  {
   "cell_type": "code",
   "execution_count": 17,
   "metadata": {
    "collapsed": false
   },
   "outputs": [
    {
     "data": {
      "text/plain": [
       "<matplotlib.text.Text at 0x7fe925fea950>"
      ]
     },
     "execution_count": 17,
     "metadata": {},
     "output_type": "execute_result"
    },
    {
     "data": {
      "image/png": "[encoded data removed]",
      "text/plain": [
       "<matplotlib.figure.Figure at 0x7fe926030290>"
      ]
     },
     "metadata": {},
     "output_type": "display_data"
    }
   ],
   "source": [
    "plt.plot(y,y-yhat,'b*')\n",
    "plt.xlabel('logP. (measured, -)')\n",
    "plt.ylabel('Residual')\n",
    "plt.title('RMSE=%.1f Pa' %(np.sqrt(sum((10**y-10**yhat)**2))))"
   ]
  },
  {
   "cell_type": "markdown",
   "metadata": {},
   "source": [
    "These residuals look much better- no clear trends and much lower residual error.  The Riedel equation is a better fit than the polynomial"
   ]
  },
  {
   "cell_type": "markdown",
   "metadata": {},
   "source": [
    "## Nonlinear Regression"
   ]
  },
  {
   "cell_type": "markdown",
   "metadata": {},
   "source": [
    "Regress P vs T data to the Antoine equation:\n",
    "    \n",
    " $$ \\log\\left(P\\right)=A+\\frac{B}{T+C}$$\n",
    " \n",
    " We use `scipy`'s `curve_fit` with a custom function coding in the Antoine equation.  *Note: Doing curve fitting with log-transformed observations violates the assumtion of identically-distributed errors*"
   ]
  },
  {
   "cell_type": "markdown",
   "metadata": {},
   "source": [
    "Define Antoine function, regress and print out best fit values of $A$, $B$, and $C$:"
   ]
  },
  {
   "cell_type": "code",
   "execution_count": 18,
   "metadata": {
    "collapsed": false
   },
   "outputs": [
    {
     "name": "stdout",
     "output_type": "stream",
     "text": [
      "A: 9.02\n",
      "B: -1207.37\n",
      "C: -52.77\n"
     ]
    }
   ],
   "source": [
    "def NLRfun(X,A,B,C):\n",
    "    T=X\n",
    "    logP=A+B/(T+C)\n",
    "    yhat=logP\n",
    "    return yhat\n",
    "\n",
    "X=data['Temperature'].values\n",
    "y=np.log10(data['Pressure'].values)\n",
    "Beta0=[10, -2000, 0]\n",
    "Beta_names=['A: ','B: ','C: ']\n",
    "\n",
    "beta,covar = curve_fit(NLRfun,X,y,p0=Beta0)\n",
    "for b in zip(Beta_names, beta):\n",
    "    print(b[0]+'{:.2f}'.format(b[1]))"
   ]
  },
  {
   "cell_type": "markdown",
   "metadata": {},
   "source": [
    "Make plot of residuals, and also calculate the RMSE of the predicted pressures:"
   ]
  },
  {
   "cell_type": "code",
   "execution_count": 19,
   "metadata": {
    "collapsed": false
   },
   "outputs": [
    {
     "data": {
      "text/plain": [
       "<matplotlib.text.Text at 0x7fe925f3cfd0>"
      ]
     },
     "execution_count": 19,
     "metadata": {},
     "output_type": "execute_result"
    },
    {
     "data": {
      "image/png": "[encoded data removed]",
      "text/plain": [
       "<matplotlib.figure.Figure at 0x7fe925f68fd0>"
      ]
     },
     "metadata": {},
     "output_type": "display_data"
    }
   ],
   "source": [
    "yhat=NLRfun(X,*beta)\n",
    "plt.plot(y,y-yhat,'b*')\n",
    "plt.xlabel('logP. (measured, -)')\n",
    "plt.ylabel('Residual, log(Pa)')\n",
    "plt.title('RMSE=%.1f Pa' %(np.sqrt(sum((10**y-10**yhat)**2))))"
   ]
  },
  {
   "cell_type": "markdown",
   "metadata": {},
   "source": [
    "Try the regression again without the log-transformed pressure observations"
   ]
  },
  {
   "cell_type": "code",
   "execution_count": 20,
   "metadata": {
    "collapsed": false
   },
   "outputs": [
    {
     "name": "stdout",
     "output_type": "stream",
     "text": [
      "A: 20.81\n",
      "B: -2797.54\n",
      "C: -51.85\n"
     ]
    }
   ],
   "source": [
    "def NLRfun(X,A,B,C):\n",
    "    T=X\n",
    "    P=np.exp(A+B/(T+C))\n",
    "    yhat=P\n",
    "    return yhat\n",
    "\n",
    "X=data['Temperature'].values # Temperature and pressure are changed to column vectors\n",
    "y=data['Pressure'].values\n",
    "Beta0=[10, -2000, 0]\n",
    "Beta_names=['A: ','B: ','C: ']\n",
    "\n",
    "beta,covar = curve_fit(NLRfun,X,y,p0=Beta0)\n",
    "for b in zip(Beta_names, beta):\n",
    "    print(b[0]+'{:.2f}'.format(b[1]))"
   ]
  },
  {
   "cell_type": "code",
   "execution_count": 21,
   "metadata": {
    "collapsed": false
   },
   "outputs": [
    {
     "data": {
      "text/plain": [
       "<matplotlib.text.Text at 0x7fe925e61390>"
      ]
     },
     "execution_count": 21,
     "metadata": {},
     "output_type": "execute_result"
    },
    {
     "data": {
      "image/png": "[encoded data removed]",
      "text/plain": [
       "<matplotlib.figure.Figure at 0x7fe925eb61d0>"
      ]
     },
     "metadata": {},
     "output_type": "display_data"
    }
   ],
   "source": [
    "yhat=NLRfun(X,*beta)\n",
    "plt.plot(y,y-yhat,'b*')\n",
    "plt.xlabel('Press. (measured, Pa)')\n",
    "plt.ylabel('Residual, Pa')\n",
    "plt.title('RMSE=%.1f Pa' %(np.sqrt(sum((y-yhat)**2))))"
   ]
  },
  {
   "cell_type": "markdown",
   "metadata": {},
   "source": [
    "Here, the residuals look similar to the log-transformed case, but the scale is different, and in terms of obervation error, the RMSE is lower without fitting the log-transformed pressure observations.  The best fit values of $A$ and $B$ have also changed significantly."
   ]
  },
  {
   "cell_type": "markdown",
   "metadata": {
    "collapsed": true
   },
   "source": [
    "#Conclusion"
   ]
  },
  {
   "cell_type": "markdown",
   "metadata": {},
   "source": [
    "We have gone through many calculations common to chemical engineering (optimization, regression, integration) using Python.  Hopefully this has been an educational excersise in presenting Python as an accessable tool to quickly analyze data and models.  Feel free to [download](https://github.com/chepyle/ChE_problemSolving) and edit this workbook as appropriate for your own needs!"
   ]
  }
 ],
 "metadata": {
  "kernelspec": {
   "display_name": "Python 2",
   "language": "python",
   "name": "python2"
  },
  "language_info": {
   "codemirror_mode": {
    "name": "ipython",
    "version": 2
   },
   "file_extension": ".py",
   "mimetype": "text/x-python",
   "name": "python",
   "nbconvert_exporter": "python",
   "pygments_lexer": "ipython2",
   "version": "2.7.6"
  }
 },
 "nbformat": 4,
 "nbformat_minor": 0
}
