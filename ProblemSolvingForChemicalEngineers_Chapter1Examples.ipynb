{
 "cells": [
  {
   "cell_type": "markdown",
   "metadata": {
    "collapsed": true
   },
   "source": [
    "# Problem Solving for Chemical Engineers\n",
    "### *Jacob Albrecht*, https://app.dominodatalab.com/u/jakealbrecht/ChE_problemSolving\n",
    "\n",
    "This notebook works through example chemical engineering problems from http://www.polymath-software.com/index.htm, using the Python programming language. The examples entail some of the publicly available solutions to select problems from the textbook \"Problem Solving in Chemical and Biochemical Engineering with POLYMATH, Excel and MATLAB\" by Michael B. Cutlip and Mordechai Shacham.  The goal of this workbook is to show the accessibility and power of a pair of modern software tools:  Jupyter notebooks and scientific Python.\n"
   ]
  },
  {
   "cell_type": "markdown",
   "metadata": {},
   "source": [
    "## What is a Jupyter notebook?\n",
    "This page is a Jupyter notebook: a web-based noteboo that consists of a single column of  cells that can contain computer code (that runs on the server in the background).  The notebook cells can contain formatted text, images, even $\\LaTeX$!  Double-clicking on any cell will enable its contents to be edited.  Because the notebook is running as a web page, everything is taken care of on the server side; there is no software to install for the end user.  Notebooks can also be easily converted to read-only formats such as non-interactive web pages or PDFs.  \n"
   ]
  },
  {
   "cell_type": "markdown",
   "metadata": {},
   "source": [
    "## Why Python?\n",
    "Python is the programming language that runs in the background of this particular notebook.  Python is a very powerful, but easy to learn programming language that is used for a wide variety of applications including scientific problem solving.  To get started, we must import some of the scientific functionality in the code cell below.  When using python for scientific or engineering applications, typical libraries include `numpy`, `scipy`, and `pandas` for functionality and the `matplotlib` or `seaborn` libraries for plotting.  This notebook includes an example using `sympy`, the powerful symbolic math library.  Libraries can loaded using the `import` command, typically at the beginning of a notebook.  Here is the python code below:\n"
   ]
  },
  {
   "cell_type": "code",
   "execution_count": 1,
   "metadata": {
    "collapsed": true
   },
   "outputs": [],
   "source": [
    "# these statements load libraries :\n",
    "import numpy as np\n",
    "import pandas as pd\n",
    "from scipy.optimize import fsolve, root\n",
    "import matplotlib.pyplot as plt\n",
    "\n",
    "# set font to use for plotting (optional)\n",
    "from matplotlib import rcParams\n",
    "rcParams['font.family'] = 'DejaVu Sans'  \n",
    "\n",
    "#tell the notebook to show plots will cell outputs\n",
    "%matplotlib inline  "
   ]
  },
  {
   "cell_type": "markdown",
   "metadata": {},
   "source": [
    "Next, for posterity print out the versions of the libraries used:\n"
   ]
  },
  {
   "cell_type": "code",
   "execution_count": 2,
   "metadata": {},
   "outputs": [
    {
     "data": {
      "application/json": {
       "Software versions": [
        {
         "module": "Python",
         "version": "3.5.3 64bit [GCC 4.4.7 20120313 (Red Hat 4.4.7-1)]"
        },
        {
         "module": "IPython",
         "version": "5.3.0"
        },
        {
         "module": "OS",
         "version": "Linux 3.13.0 123 generic x86_64 with debian jessie sid"
        },
        {
         "module": "pandas",
         "version": "0.20.1"
        },
        {
         "module": "numpy",
         "version": "1.12.1"
        },
        {
         "module": "scipy",
         "version": "0.19.0"
        },
        {
         "module": "matplotlib",
         "version": "2.0.2"
        }
       ]
      },
      "text/html": [
       "<table><tr><th>Software</th><th>Version</th></tr><tr><td>Python</td><td>3.5.3 64bit [GCC 4.4.7 20120313 (Red Hat 4.4.7-1)]</td></tr><tr><td>IPython</td><td>5.3.0</td></tr><tr><td>OS</td><td>Linux 3.13.0 123 generic x86_64 with debian jessie sid</td></tr><tr><td>pandas</td><td>0.20.1</td></tr><tr><td>numpy</td><td>1.12.1</td></tr><tr><td>scipy</td><td>0.19.0</td></tr><tr><td>matplotlib</td><td>2.0.2</td></tr><tr><td colspan='2'>Sun Aug 13 18:39:25 2017 UTC</td></tr></table>"
      ],
      "text/latex": [
       "\\begin{tabular}{|l|l|}\\hline\n",
       "{\\bf Software} & {\\bf Version} \\\\ \\hline\\hline\n",
       "Python & 3.5.3 64bit [GCC 4.4.7 20120313 (Red Hat 4.4.7-1)] \\\\ \\hline\n",
       "IPython & 5.3.0 \\\\ \\hline\n",
       "OS & Linux 3.13.0 123 generic x86\\_64 with debian jessie sid \\\\ \\hline\n",
       "pandas & 0.20.1 \\\\ \\hline\n",
       "numpy & 1.12.1 \\\\ \\hline\n",
       "scipy & 0.19.0 \\\\ \\hline\n",
       "matplotlib & 2.0.2 \\\\ \\hline\n",
       "\\hline \\multicolumn{2}{|l|}{Sun Aug 13 18:39:25 2017 UTC} \\\\ \\hline\n",
       "\\end{tabular}\n"
      ],
      "text/plain": [
       "Software versions\n",
       "Python 3.5.3 64bit [GCC 4.4.7 20120313 (Red Hat 4.4.7-1)]\n",
       "IPython 5.3.0\n",
       "OS Linux 3.13.0 123 generic x86_64 with debian jessie sid\n",
       "pandas 0.20.1\n",
       "numpy 1.12.1\n",
       "scipy 0.19.0\n",
       "matplotlib 2.0.2\n",
       "Sun Aug 13 18:39:25 2017 UTC"
      ]
     },
     "execution_count": 2,
     "metadata": {},
     "output_type": "execute_result"
    }
   ],
   "source": [
    "%load_ext version_information\n",
    "%version_information pandas, numpy, scipy, matplotlib"
   ]
  },
  {
   "cell_type": "markdown",
   "metadata": {},
   "source": [
    "Ok, lets get started on some problems!"
   ]
  },
  {
   "cell_type": "markdown",
   "metadata": {},
   "source": [
    "## Molar Volume and Compressibility factor from Van Der Waals Equation  (Problem 1-1a)\n",
    "\n",
    "Goal: Find the value of $V$ that sets the value of the objective function closest to zero\n",
    "\n",
    "$$f=\\left(P+\\frac{a}{V^2}\\right)\\left(V-b\\right)-RT$$\n",
    "\n",
    "Where:\n",
    "\n",
    "$$a=\\frac{27}{64}\\frac{R^2T_c^2}{P_c}$$\n",
    "\n",
    "\n",
    "$$b=\\frac{R T_c}{8P_c}$$\n",
    "\n",
    "For this problem, reduced pressure $P_r$ is set at 0.5.  \n",
    "\n",
    "First, define the constants and the objective function to minimize:"
   ]
  },
  {
   "cell_type": "code",
   "execution_count": 3,
   "metadata": {
    "collapsed": true
   },
   "outputs": [],
   "source": [
    "def fun1_1(V):\n",
    "    P = 56\n",
    "    R = 0.08206\n",
    "    T = 450\n",
    "    Tc = 405.5\n",
    "    Pc = 111.3\n",
    "    a = 27*(R**2*Tc**2/Pc)/64\n",
    "    b = R*Tc/(8*Pc)\n",
    "    f = (P+a/(V**2))*(V-b)-R*T\n",
    "    return(f)"
   ]
  },
  {
   "cell_type": "markdown",
   "metadata": {},
   "source": [
    "Next, use `fsolve` to find the value of $V$ that satisfies the equation and mimimizes the objective function"
   ]
  },
  {
   "cell_type": "code",
   "execution_count": 4,
   "metadata": {},
   "outputs": [
    {
     "data": {
      "text/html": [
       "<div>\n",
       "<style>\n",
       "    .dataframe thead tr:only-child th {\n",
       "        text-align: right;\n",
       "    }\n",
       "\n",
       "    .dataframe thead th {\n",
       "        text-align: left;\n",
       "    }\n",
       "\n",
       "    .dataframe tbody tr th {\n",
       "        vertical-align: top;\n",
       "    }\n",
       "</style>\n",
       "<table border=\"1\" class=\"dataframe\">\n",
       "  <thead>\n",
       "    <tr style=\"text-align: right;\">\n",
       "      <th></th>\n",
       "      <th>Objective Function</th>\n",
       "      <th>V</th>\n",
       "    </tr>\n",
       "  </thead>\n",
       "  <tbody>\n",
       "    <tr>\n",
       "      <th>Initial</th>\n",
       "      <td>-3.253276</td>\n",
       "      <td>0.500000</td>\n",
       "    </tr>\n",
       "    <tr>\n",
       "      <th>Final</th>\n",
       "      <td>0.000000</td>\n",
       "      <td>0.574892</td>\n",
       "    </tr>\n",
       "  </tbody>\n",
       "</table>\n",
       "</div>"
      ],
      "text/plain": [
       "         Objective Function         V\n",
       "Initial           -3.253276  0.500000\n",
       "Final              0.000000  0.574892"
      ]
     },
     "execution_count": 4,
     "metadata": {},
     "output_type": "execute_result"
    }
   ],
   "source": [
    "Vguess=0.5\n",
    "Vsolv=fsolve(fun1_1,Vguess) #Use fsolve  to solve the equation/s\n",
    "pd.DataFrame({'V':[Vguess,Vsolv[0]],\n",
    "              'Objective Function':[fun1_1(Vguess),fun1_1(Vsolv[0])]},\n",
    "             index=['Initial','Final'])"
   ]
  },
  {
   "cell_type": "markdown",
   "metadata": {},
   "source": [
    "Solution: the optimal value of $V$ is about 0.575"
   ]
  },
  {
   "cell_type": "markdown",
   "metadata": {},
   "source": [
    "## Molar Volume and Compressibility factor from Van Der Waals Equation for *different* reduced pressures (Problem 1-1b)\n",
    "\n",
    "Like problem 1-1a, but now solve for a range of reduced pressures ($P_r$=1, 2, 4, 10, 20) \n",
    "\n",
    "Use the objective function from previous, but include the relationship between pressure $P$, reduced pressure $P_r$, and critical pressure $P_c$:\n",
    "\n",
    "$$ P = P_cP_r$$"
   ]
  },
  {
   "cell_type": "code",
   "execution_count": 5,
   "metadata": {
    "collapsed": true
   },
   "outputs": [],
   "source": [
    "def fun1_1b(x):\n",
    "    V=x\n",
    "    R = 0.08206\n",
    "    T = 450\n",
    "    Tc = 405.5\n",
    "    Pc = 111.3\n",
    "    P = Pc*Pr\n",
    "    a = 27*(R**2*Tc**2/Pc)/64\n",
    "    b = R*Tc/(8*Pc)\n",
    "    Z = P*V/(R*T)\n",
    "    f = (P+a/(V**2))*(V-b)-R*T\n",
    "    return(f)"
   ]
  },
  {
   "cell_type": "markdown",
   "metadata": {},
   "source": [
    "Define the range of $P_r$ to examine, then perform `fsolve` in a loop for each case:"
   ]
  },
  {
   "cell_type": "code",
   "execution_count": 6,
   "metadata": {},
   "outputs": [
    {
     "data": {
      "text/html": [
       "<div>\n",
       "<style>\n",
       "    .dataframe thead tr:only-child th {\n",
       "        text-align: right;\n",
       "    }\n",
       "\n",
       "    .dataframe thead th {\n",
       "        text-align: left;\n",
       "    }\n",
       "\n",
       "    .dataframe tbody tr th {\n",
       "        vertical-align: top;\n",
       "    }\n",
       "</style>\n",
       "<table border=\"1\" class=\"dataframe\">\n",
       "  <thead>\n",
       "    <tr style=\"text-align: right;\">\n",
       "      <th></th>\n",
       "      <th>Pr</th>\n",
       "      <th>Initial V</th>\n",
       "      <th>Initial Objective Function</th>\n",
       "      <th>Final V</th>\n",
       "      <th>Final Objective Function</th>\n",
       "    </tr>\n",
       "  </thead>\n",
       "  <tbody>\n",
       "    <tr>\n",
       "      <th>0</th>\n",
       "      <td>1</td>\n",
       "      <td>0.500000</td>\n",
       "      <td>22.330096</td>\n",
       "      <td>0.233509</td>\n",
       "      <td>-7.105427e-15</td>\n",
       "    </tr>\n",
       "    <tr>\n",
       "      <th>1</th>\n",
       "      <td>2</td>\n",
       "      <td>0.233509</td>\n",
       "      <td>21.830094</td>\n",
       "      <td>0.077268</td>\n",
       "      <td>-2.842171e-14</td>\n",
       "    </tr>\n",
       "    <tr>\n",
       "      <th>2</th>\n",
       "      <td>4</td>\n",
       "      <td>0.077268</td>\n",
       "      <td>8.880926</td>\n",
       "      <td>0.060654</td>\n",
       "      <td>0.000000e+00</td>\n",
       "    </tr>\n",
       "    <tr>\n",
       "      <th>3</th>\n",
       "      <td>10</td>\n",
       "      <td>0.060654</td>\n",
       "      <td>15.548432</td>\n",
       "      <td>0.050875</td>\n",
       "      <td>1.421085e-14</td>\n",
       "    </tr>\n",
       "    <tr>\n",
       "      <th>4</th>\n",
       "      <td>20</td>\n",
       "      <td>0.050875</td>\n",
       "      <td>15.030021</td>\n",
       "      <td>0.046175</td>\n",
       "      <td>6.394885e-13</td>\n",
       "    </tr>\n",
       "  </tbody>\n",
       "</table>\n",
       "</div>"
      ],
      "text/plain": [
       "   Pr  Initial V  Initial Objective Function   Final V  \\\n",
       "0   1   0.500000                   22.330096  0.233509   \n",
       "1   2   0.233509                   21.830094  0.077268   \n",
       "2   4   0.077268                    8.880926  0.060654   \n",
       "3  10   0.060654                   15.548432  0.050875   \n",
       "4  20   0.050875                   15.030021  0.046175   \n",
       "\n",
       "   Final Objective Function  \n",
       "0             -7.105427e-15  \n",
       "1             -2.842171e-14  \n",
       "2              0.000000e+00  \n",
       "3              1.421085e-14  \n",
       "4              6.394885e-13  "
      ]
     },
     "execution_count": 6,
     "metadata": {},
     "output_type": "execute_result"
    }
   ],
   "source": [
    "Pr_set = [1,2,4,10,20] # range of Pr's to examine\n",
    "from collections import defaultdict\n",
    "xsolv = 0.5\n",
    "results = [] # initialize results to be empty\n",
    "for Pr in Pr_set:    \n",
    "    xguess = xsolv  # set initial guess to be previous solution\n",
    "    xsolv=fsolve(fun1_1b,xguess)[0] #Use fsolve  to solve the equation/s\n",
    "    results.append({'Initial Objective Function':fun1_1b(xguess),\n",
    "                    'Initial V':xguess,\n",
    "                    'Final Objective Function':fun1_1b(xsolv),\n",
    "                    'Final V':xsolv,'Pr':Pr})\n",
    "\n",
    "pd.DataFrame(results).sort_index(axis=1,ascending=False) # print out a table of all results"
   ]
  },
  {
   "cell_type": "markdown",
   "metadata": {},
   "source": [
    "From the table of results, the final value of $V$ from the optimization decreases with increasing $Pr$"
   ]
  },
  {
   "cell_type": "markdown",
   "metadata": {
    "collapsed": true
   },
   "source": [
    "## Fitting Polynomials and Correlation Equations to Vapor Pressure Data - Polynomials (Problem 1-3a)\n",
    "\n",
    "In this problem we use a set of experimental vapor pressure data to create a predictive model for the vapor pressure of Benzene as a function of temperature.  This section creates polynomial models of the form:\n",
    "\n",
    "$$P_{vap}= \\sum_{i=0}^n{\\beta_iT^i}$$\n",
    "\n",
    "Where $\\beta$ are regressed coefficients and $n$ is the degree of the polynomial.  For example an degree 2 polynomial would have the form:  \n",
    "\n",
    "$$P_{vap}=\\beta_2T^2+\\beta_1T+\\beta_0$$"
   ]
  },
  {
   "cell_type": "markdown",
   "metadata": {},
   "source": [
    "To start, first download the data file from http://www.polymath-software.com, using the linux `curl` command"
   ]
  },
  {
   "cell_type": "code",
   "execution_count": 7,
   "metadata": {},
   "outputs": [
    {
     "name": "stdout",
     "output_type": "stream",
     "text": [
      "  % Total    % Received % Xferd  Average Speed   Time    Time     Time  Current\n",
      "                                 Dload  Upload   Total   Spent    Left  Speed\n",
      "100    92  100    92    0     0    617      0 --:--:-- --:--:-- --:--:--  1260\n"
     ]
    }
   ],
   "source": [
    "!curl http://www.polymath-software.com/WorkedProblems/Chapter%201/Matlab/P1-3a/pro1_3.dat -o pro1_3.dat"
   ]
  },
  {
   "cell_type": "markdown",
   "metadata": {},
   "source": [
    "Inspect the data:"
   ]
  },
  {
   "cell_type": "code",
   "execution_count": 8,
   "metadata": {},
   "outputs": [
    {
     "data": {
      "text/html": [
       "<div>\n",
       "<style>\n",
       "    .dataframe thead tr:only-child th {\n",
       "        text-align: right;\n",
       "    }\n",
       "\n",
       "    .dataframe thead th {\n",
       "        text-align: left;\n",
       "    }\n",
       "\n",
       "    .dataframe tbody tr th {\n",
       "        vertical-align: top;\n",
       "    }\n",
       "</style>\n",
       "<table border=\"1\" class=\"dataframe\">\n",
       "  <thead>\n",
       "    <tr style=\"text-align: right;\">\n",
       "      <th></th>\n",
       "      <th>Temperature</th>\n",
       "      <th>Vapor Pressure (mm Hg)</th>\n",
       "    </tr>\n",
       "  </thead>\n",
       "  <tbody>\n",
       "    <tr>\n",
       "      <th>0</th>\n",
       "      <td>236.45</td>\n",
       "      <td>1</td>\n",
       "    </tr>\n",
       "    <tr>\n",
       "      <th>1</th>\n",
       "      <td>253.55</td>\n",
       "      <td>5</td>\n",
       "    </tr>\n",
       "    <tr>\n",
       "      <th>2</th>\n",
       "      <td>261.65</td>\n",
       "      <td>10</td>\n",
       "    </tr>\n",
       "    <tr>\n",
       "      <th>3</th>\n",
       "      <td>270.55</td>\n",
       "      <td>20</td>\n",
       "    </tr>\n",
       "    <tr>\n",
       "      <th>4</th>\n",
       "      <td>280.75</td>\n",
       "      <td>40</td>\n",
       "    </tr>\n",
       "    <tr>\n",
       "      <th>5</th>\n",
       "      <td>288.55</td>\n",
       "      <td>60</td>\n",
       "    </tr>\n",
       "    <tr>\n",
       "      <th>6</th>\n",
       "      <td>299.25</td>\n",
       "      <td>100</td>\n",
       "    </tr>\n",
       "    <tr>\n",
       "      <th>7</th>\n",
       "      <td>315.35</td>\n",
       "      <td>200</td>\n",
       "    </tr>\n",
       "    <tr>\n",
       "      <th>8</th>\n",
       "      <td>333.75</td>\n",
       "      <td>400</td>\n",
       "    </tr>\n",
       "    <tr>\n",
       "      <th>9</th>\n",
       "      <td>353.25</td>\n",
       "      <td>760</td>\n",
       "    </tr>\n",
       "  </tbody>\n",
       "</table>\n",
       "</div>"
      ],
      "text/plain": [
       "   Temperature  Vapor Pressure (mm Hg)\n",
       "0       236.45                       1\n",
       "1       253.55                       5\n",
       "2       261.65                      10\n",
       "3       270.55                      20\n",
       "4       280.75                      40\n",
       "5       288.55                      60\n",
       "6       299.25                     100\n",
       "7       315.35                     200\n",
       "8       333.75                     400\n",
       "9       353.25                     760"
      ]
     },
     "execution_count": 8,
     "metadata": {},
     "output_type": "execute_result"
    }
   ],
   "source": [
    "# Load vapor pressure data T in deg. C and P in mmHg\n",
    "pro1_3 = pd.read_csv('pro1_3.dat',header=None,delimiter='\\t') \n",
    "xyData = pd.DataFrame({'Temperature':pro1_3[0]+273.15,\n",
    "                       'Vapor Pressure (mm Hg)':pro1_3[1]})\n",
    "min_degree = 1; # minimal degree of a polynomial \n",
    "max_degree = 5; # maximal degree of a polynomial \n",
    "xyData"
   ]
  },
  {
   "cell_type": "markdown",
   "metadata": {},
   "source": [
    "For the parameter confidence interval ranges, we will us the t distribution, imported from `scipy`:"
   ]
  },
  {
   "cell_type": "code",
   "execution_count": 9,
   "metadata": {
    "collapsed": true
   },
   "outputs": [],
   "source": [
    "from scipy.stats.distributions import t\n",
    "alpha = 0.05 # for 95% confidence intervals"
   ]
  },
  {
   "cell_type": "markdown",
   "metadata": {},
   "source": [
    "Try several polynomial fits for degree between 1 and 5: "
   ]
  },
  {
   "cell_type": "code",
   "execution_count": 10,
   "metadata": {
    "scrolled": false
   },
   "outputs": [
    {
     "data": {
      "image/png": "[encoded data removed]",
      "text/plain": [
       "<matplotlib.figure.Figure at 0x7f1b5ce91860>"
      ]
     },
     "metadata": {},
     "output_type": "display_data"
    },
    {
     "name": "stdout",
     "output_type": "stream",
     "text": [
      "Degree 1, Residual variance: 14823.82\n",
      "\n",
      "          Beta      CI +/-\n",
      "1     5.890720    2.946769\n",
      "0 -1544.644084  858.671783\n"
     ]
    },
    {
     "data": {
      "image/png": "[encoded data removed]",
      "text/plain": [
       "<matplotlib.figure.Figure at 0x7f1b593109b0>"
      ]
     },
     "metadata": {},
     "output_type": "display_data"
    },
    {
     "name": "stdout",
     "output_type": "stream",
     "text": [
      "Degree 2, Residual variance: 1216.79\n",
      "\n",
      "          Beta       CI +/-\n",
      "2     0.086153     0.025343\n",
      "1   -44.998001    14.995996\n",
      "0  5862.699245  2194.268049\n"
     ]
    },
    {
     "data": {
      "image/png": "[encoded data removed]",
      "text/plain": [
       "<matplotlib.figure.Figure at 0x7f1b592c1e10>"
      ]
     },
     "metadata": {},
     "output_type": "display_data"
    },
    {
     "name": "stdout",
     "output_type": "stream",
     "text": [
      "Degree 3, Residual variance: 34.12\n",
      "\n",
      "           Beta       CI +/-\n",
      "3      0.000745     0.000143\n",
      "2     -0.570969     0.126252\n",
      "1    146.383159    36.844240\n",
      "0 -12540.815474  3555.398287\n"
     ]
    },
    {
     "data": {
      "image/png": "[encoded data removed]",
      "text/plain": [
       "<matplotlib.figure.Figure at 0x7f1b591738d0>"
      ]
     },
     "metadata": {},
     "output_type": "display_data"
    },
    {
     "name": "stdout",
     "output_type": "stream",
     "text": [
      "Degree 4, Residual variance: 0.40\n",
      "\n",
      "           Beta        CI +/-\n",
      "4      0.000004  5.826671e-07\n",
      "3     -0.003917  6.856155e-04\n",
      "2      1.471676  3.006917e-01\n",
      "1   -248.690044  5.825103e+01\n",
      "0  15917.848176  4.205576e+03\n"
     ]
    },
    {
     "data": {
      "image/png": "[encoded data removed]",
      "text/plain": [
       "<matplotlib.figure.Figure at 0x7f1b590662b0>"
      ]
     },
     "metadata": {},
     "output_type": "display_data"
    },
    {
     "name": "stdout",
     "output_type": "stream",
     "text": [
      "Degree 5, Residual variance: 0.49\n",
      "\n",
      "           Beta        CI +/-\n",
      "5 -2.505100e-09  3.197484e-08\n",
      "4  7.647407e-06  4.703168e-05\n",
      "3 -6.073500e-03  2.753977e-02\n",
      "2  2.099593e+00  8.024305e+00\n",
      "1 -3.396394e+02  1.163365e+03\n",
      "0  2.116011e+04  6.713730e+04\n"
     ]
    }
   ],
   "source": [
    "x_name='Temperature'\n",
    "y_name='Vapor Pressure (mm Hg)'\n",
    "for degree in range(min_degree,max_degree+1):\n",
    "    x=xyData[x_name].values\n",
    "    y=xyData[y_name].values\n",
    "    fit, cov = np.polyfit(x,y,\n",
    "                          degree,\n",
    "                          full=False, cov= True)\n",
    "    Yfit = np.poly1d(fit)\n",
    "    residuals = y-Yfit(x)\n",
    "    dof = xyData.shape[0]-fit.shape[0]\n",
    "    tval = t.ppf(1-alpha/2,dof)\n",
    "    sigma = np.sqrt(np.diag(cov))\n",
    "    variance=np.dot(residuals.T,residuals)/dof\n",
    "    results = pd.DataFrame({'Beta':fit,\n",
    "                            'CI +/-':sigma*tval},\n",
    "                           index=list(reversed(range(len(fit)))))\n",
    "    \n",
    "    plt.figure(figsize=(10,5))    \n",
    "    \n",
    "    plt.subplot(1,2,1)\n",
    "    plt.title(' Results, ord={}'.format(degree))\n",
    "    plt.plot(x,y,'b*')\n",
    "    plt.plot(x,Yfit(x),'r--')\n",
    "    plt.xlabel(x_name)\n",
    "    plt.ylabel(y_name)\n",
    "    \n",
    "    plt.subplot(1,2,2)    \n",
    "    plt.title('Residual plot  ord={0}'.format(degree))\n",
    "    plt.plot(x,residuals,'*')\n",
    "    plt.xlabel(x_name)\n",
    "    plt.ylabel('Residual')\n",
    "    plt.show()\n",
    "    print('Degree {}, Residual variance: {:3.2f}\\n'.format(degree,variance))\n",
    "    print(results)\n",
    "      "
   ]
  },
  {
   "cell_type": "markdown",
   "metadata": {},
   "source": [
    "From the fits and residuals, the degree 4 polynomial provides the best fit to the data."
   ]
  },
  {
   "cell_type": "markdown",
   "metadata": {},
   "source": [
    "## Fit the Vapor Pressure vs. Temperature data to the Clapeyron equation (Problem 1-3b)\n",
    "\n",
    "Fit the Vapor Pressure vs. Temperature data to the Clapeyron equation:\n",
    "\n",
    "$$P_{vap}=\\exp\\left(\\beta_0+\\frac{\\beta_1}{T}\\right)$$\n",
    "\n",
    "This equation is non-linear, so we will use a different fitting function, `scipy`'s `curve_fit` "
   ]
  },
  {
   "cell_type": "code",
   "execution_count": 11,
   "metadata": {
    "collapsed": true
   },
   "outputs": [],
   "source": [
    "from scipy.optimize import curve_fit"
   ]
  },
  {
   "cell_type": "markdown",
   "metadata": {},
   "source": [
    "A custom function is also needed to describe the Clapeyron equation, returning the value of $P_{vap}$ given $T$, $\\beta_0$ and $\\beta_1$:"
   ]
  },
  {
   "cell_type": "code",
   "execution_count": 12,
   "metadata": {
    "collapsed": true
   },
   "outputs": [],
   "source": [
    "def clapeyron(T,B0,B1):\n",
    "    Pvap = np.exp(B0+B1/T)\n",
    "    return(Pvap)"
   ]
  },
  {
   "cell_type": "markdown",
   "metadata": {},
   "source": [
    "Do the fitting:"
   ]
  },
  {
   "cell_type": "code",
   "execution_count": 13,
   "metadata": {
    "collapsed": true
   },
   "outputs": [],
   "source": [
    "x_name='Temperature'\n",
    "y_name='Vapor Pressure (mm Hg)'\n",
    "x=xyData[x_name].values\n",
    "y=xyData[y_name].values\n",
    "fit, cov = curve_fit(clapeyron, x,y)"
   ]
  },
  {
   "cell_type": "markdown",
   "metadata": {
    "collapsed": true
   },
   "source": [
    "From the fitted results, plot the predictions and print a table of the parameter statistics:\n"
   ]
  },
  {
   "cell_type": "code",
   "execution_count": 14,
   "metadata": {},
   "outputs": [
    {
     "data": {
      "image/png": "[encoded data removed]",
      "text/plain": [
       "<matplotlib.figure.Figure at 0x7f1b58f5e438>"
      ]
     },
     "metadata": {},
     "output_type": "display_data"
    },
    {
     "name": "stdout",
     "output_type": "stream",
     "text": [
      "Residual variance: 12.97\n",
      "\n",
      "          Beta     CI +/-\n",
      "0    17.846185   0.221936\n",
      "1 -3960.018499  76.655896\n"
     ]
    }
   ],
   "source": [
    "Yfit = clapeyron(x,*fit)\n",
    "residuals = y-clapeyron(x,*fit)\n",
    "dof = xyData.shape[0]-fit.shape[0]\n",
    "tval = t.ppf(1-alpha/2,dof)\n",
    "sigma = np.sqrt(np.diag(cov))\n",
    "variance=np.dot(residuals.T,residuals)/dof\n",
    "results = pd.DataFrame({'Beta':fit,\n",
    "                        'CI +/-':sigma*tval})\n",
    "\n",
    "plt.figure(figsize=(10,5))    \n",
    "\n",
    "plt.subplot(1,2,1)\n",
    "plt.title(' Results, Clapeyron Equation')\n",
    "plt.plot(x,y,'b*')\n",
    "plt.plot(x,Yfit,'r--')\n",
    "plt.xlabel(x_name)\n",
    "plt.ylabel(y_name)\n",
    "\n",
    "plt.subplot(1,2,2)    \n",
    "plt.title('Residual plot Clapeyron Equation')\n",
    "plt.plot(x,residuals,'*')\n",
    "plt.xlabel(x_name)\n",
    "plt.ylabel('Residual')\n",
    "plt.show()\n",
    "print('Residual variance: {:3.2f}\\n'.format(variance))\n",
    "print(results)"
   ]
  },
  {
   "cell_type": "markdown",
   "metadata": {},
   "source": [
    "For using only two parameters, the Clapeyron equation works pretty well, much better than the two parameter degree 1 polynomial."
   ]
  },
  {
   "cell_type": "markdown",
   "metadata": {
    "collapsed": true
   },
   "source": [
    "# Problem 1-3c\n",
    "Fit the Vapor Pressure vs. Temperature data to the Riedel equation:\n",
    "\n",
    "$$log_{10}(P_{vap})=\\beta_0+\\frac{\\beta_1}{T}+\\beta_2log10\\left(T\\right)+\\beta_3T^2$$\n",
    "\n",
    "As with the Clapeyron equation define a custom function to use with `curve_fit`"
   ]
  },
  {
   "cell_type": "code",
   "execution_count": 15,
   "metadata": {
    "collapsed": true
   },
   "outputs": [],
   "source": [
    "def riedel(T,B0,B1,B2,B3):\n",
    "    return(10**(B0+B1/T+B2*np.log10(T)+B3*T**2))"
   ]
  },
  {
   "cell_type": "markdown",
   "metadata": {},
   "source": [
    "Do the fitting exercise, using some extra options for initial guess, parameter bounds and max function evaluations:"
   ]
  },
  {
   "cell_type": "code",
   "execution_count": 16,
   "metadata": {
    "collapsed": true
   },
   "outputs": [],
   "source": [
    "x_name='Temperature'\n",
    "y_name='Vapor Pressure (mm Hg)'\n",
    "x=xyData[x_name].values\n",
    "y=xyData[y_name].values\n",
    "fit, cov = curve_fit(riedel, x,y,p0=[200,-9000,-75,5e-5],maxfev=5000,\n",
    "                    bounds=[[100,-10000,-90,4e-5],[300,-8000,-60,6e-5]])"
   ]
  },
  {
   "cell_type": "code",
   "execution_count": 17,
   "metadata": {},
   "outputs": [
    {
     "data": {
      "image/png": "[encoded data removed]",
      "text/plain": [
       "<matplotlib.figure.Figure at 0x7f1b58fbb4e0>"
      ]
     },
     "metadata": {},
     "output_type": "display_data"
    },
    {
     "name": "stdout",
     "output_type": "stream",
     "text": [
      "Residual variance: 1.26\n",
      "\n",
      "          Beta       CI +/-\n",
      "0   198.754691   135.399444\n",
      "1 -8506.123235  4616.932359\n",
      "2   -69.571242    49.702099\n",
      "3     0.000044     0.000035\n"
     ]
    }
   ],
   "source": [
    "Yfit = riedel(x,*fit)\n",
    "residuals = y-riedel(x,*fit)\n",
    "dof = xyData.shape[0]-fit.shape[0]\n",
    "tval = t.ppf(1-alpha/2,dof)\n",
    "sigma = np.sqrt(np.diag(cov))\n",
    "variance=np.dot(residuals.T,residuals)/dof\n",
    "results = pd.DataFrame({'Beta':fit,\n",
    "                        'CI +/-':sigma*tval})\n",
    "\n",
    "plt.figure(figsize=(10,5))    \n",
    "\n",
    "plt.subplot(1,2,1)\n",
    "plt.title(' Results, Riedel Equation')\n",
    "plt.plot(x,y,'b*')\n",
    "plt.plot(x,Yfit,'r--')\n",
    "plt.xlabel(x_name)\n",
    "plt.ylabel(y_name)\n",
    "\n",
    "plt.subplot(1,2,2)    \n",
    "plt.title('Residual plot Riedel Equation')\n",
    "plt.plot(x,residuals,'*')\n",
    "plt.xlabel(x_name)\n",
    "plt.ylabel('Residual')\n",
    "plt.show()\n",
    "print('Residual variance: {:3.2f}\\n'.format(variance))\n",
    "print(results)"
   ]
  },
  {
   "cell_type": "markdown",
   "metadata": {},
   "source": [
    "The Riedel equation fits much better than the Clapeyron equation, but requires more parameters to do the fitting."
   ]
  },
  {
   "cell_type": "markdown",
   "metadata": {},
   "source": [
    "# Steady state material balances on a separation train (Problem 1-5)\n"
   ]
  },
  {
   "cell_type": "markdown",
   "metadata": {},
   "source": [
    "The solve steady state material balances, written in a linear algebra form:\n",
    "\n",
    "$$\\begin{bmatrix}0.07 & 0.18 & 0.15&0.24\\\\0.04&0.24&0.1&0.65\\\\0.54&0.42&0.54&0.1\\\\0.35&0.16&0.21&0.01\\end{bmatrix} \\begin{bmatrix}D1\\\\B1\\\\D2\\\\B2\\end{bmatrix}=70\\begin{bmatrix}0.15\\\\0.25\\\\0.4\\\\0.2\\end{bmatrix}$$\n"
   ]
  },
  {
   "cell_type": "markdown",
   "metadata": {},
   "source": [
    "### Part a: \n",
    "Solve system of equations to find molar flowrates for $D1,B1,D2,B2$ :"
   ]
  },
  {
   "cell_type": "code",
   "execution_count": 18,
   "metadata": {},
   "outputs": [
    {
     "name": "stdout",
     "output_type": "stream",
     "text": [
      "Solution: D1=26.25, B1=17.50, D2=8.75, B2=17.50\n"
     ]
    }
   ],
   "source": [
    "A = np.matrix([[0.07,0.18,0.15,0.24],[0.04,0.24,0.1,0.65],\n",
    "   [0.54,0.42,0.54,0.1],[0.35,0.16,0.21,0.01]])\n",
    "b = np.array([0.15*70, 0.25*70, 0.4*70, 0.2*70])\n",
    "x = np.linalg.solve(A,b)\n",
    "print('Solution: D1={:3.2f}, B1={:3.2f}, D2={:3.2f}, B2={:3.2f}'.format(*x))"
   ]
  },
  {
   "cell_type": "markdown",
   "metadata": {},
   "source": [
    "### Part b:\n",
    "Do a brute force sensitivity analysis by applying a at 1 or 2% reduction to stream composition: "
   ]
  },
  {
   "cell_type": "code",
   "execution_count": 19,
   "metadata": {
    "scrolled": true
   },
   "outputs": [
    {
     "name": "stdout",
     "output_type": "stream",
     "text": [
      "The solution with one % reduction of Xylene is:\n",
      "D1=26.55, B1=7.59, D2=15.68, B2=20.07\n",
      "\n",
      "The solution with two % reduction of Xylene is:\n",
      "D1=26.84, B1=-2.32, D2=22.62, B2=22.65\n",
      "\n",
      "The solution with one % reduction of Styrene is:\n",
      "D1=26.04, B1=22.72, D2=5.21, B2=15.86\n",
      "\n",
      "The solution with two % reduction of Styrene is:\n",
      "D1=25.82, B1=27.94, D2=1.66, B2=14.22\n",
      "\n"
     ]
    }
   ],
   "source": [
    "for ix, label in enumerate(['Xylene','Styrene']):\n",
    "    b_1 = b.copy()  # a peculiar twist with python... if you want to copy a variable, be sure to .copy()!\n",
    "    b_1[ix] *= 0.99;\n",
    "    print('The solution with one % reduction of {} is:'.format(label))\n",
    "    x_1 = np.linalg.solve(A,b_1)\n",
    "    print('D1={:3.2f}, B1={:3.2f}, D2={:3.2f}, B2={:3.2f}\\n'.format(*x_1));          \n",
    "    b_2 = b.copy()\n",
    "    b_2[ix] *=0.98;\n",
    "    print('The solution with two % reduction of {} is:'.format(label))\n",
    "    x_2 = np.linalg.solve(A,b_2)\n",
    "    print('D1={:3.2f}, B1={:3.2f}, D2={:3.2f}, B2={:3.2f}\\n'.format(*x_2));  "
   ]
  },
  {
   "cell_type": "markdown",
   "metadata": {},
   "source": [
    "### Part c: \n",
    "Caluclate composition of $B$ and $D$ streams using compositions of $D1,B1,D2,B2$ :"
   ]
  },
  {
   "cell_type": "code",
   "execution_count": 20,
   "metadata": {},
   "outputs": [
    {
     "name": "stdout",
     "output_type": "stream",
     "text": [
      "Calculations for D: \n",
      "Xylene: 0.114\n",
      "Styrene: 0.120\n",
      "Toluene: 0.492\n",
      "Benzene: 0.274\n",
      "\n",
      "Calculations for B: \n",
      "Xylene: 0.210\n",
      "Styrene: 0.467\n",
      "Toluene: 0.247\n",
      "Benzene: 0.077\n",
      "\n"
     ]
    }
   ],
   "source": [
    "D1 = x[0]\n",
    "B1 = x[1]\n",
    "D = D1+B1\n",
    "x_Dx = (0.07*D1+0.18*B1)/D\n",
    "x_Ds = (0.04*D1+0.24*B1)/D\n",
    "x_Dt = (0.54*D1+0.42*B1)/D\n",
    "x_Db = (0.35*D1+0.16*B1)/D\n",
    "\n",
    "print('Calculations for D: \\nXylene: {:1.3f}\\nStyrene: {:1.3f}\\nToluene: {:1.3f}\\nBenzene: {:1.3f}\\n'.format(x_Dx,x_Ds,x_Dt,x_Db))\n",
    "\n",
    "D2 = x[2];\n",
    "B2 = x[3];\n",
    "B = D2+B2\n",
    "x_Bx = (0.15*D2+0.24*B2)/B\n",
    "x_Bs = (0.1*D2+0.65*B2)/B\n",
    "x_Bt = (0.54*D2+0.10*B2)/B\n",
    "x_Bb = (0.21*D2+0.01*B2)/B\n",
    "\n",
    "print('Calculations for B: \\nXylene: {:1.3f}\\nStyrene: {:1.3f}\\nToluene: {:1.3f}\\nBenzene: {:1.3f}\\n'.format(x_Bx,x_Bs,x_Bt,x_Bb))"
   ]
  },
  {
   "cell_type": "markdown",
   "metadata": {},
   "source": [
    "# Gas Volume Calculations from Various Equations of State - Ideal gas (Problem 1-8a)\n",
    "\n",
    "Using the ideal gas equation $PV=RT$, solve for gas molar volume $V$ given $P$, $R$, and $T$.  One way to solve this problem is to use a good non-linear solver like `curve_fit`, but for this solution, we'll take advantage of the symbolic math library `sympy`.  First, import the library:"
   ]
  },
  {
   "cell_type": "code",
   "execution_count": 21,
   "metadata": {
    "collapsed": true
   },
   "outputs": [],
   "source": [
    "from sympy.solvers import solve\n",
    "from sympy import symbols\n",
    "from sympy import init_printing  # to turn on nice-looking equations\n",
    "init_printing()"
   ]
  },
  {
   "cell_type": "markdown",
   "metadata": {},
   "source": [
    "Then define the equation to solve, using the `sympy` convention that all terms are collected on one side, i.e. we solve $PV-RT=0$ for $V$:"
   ]
  },
  {
   "cell_type": "code",
   "execution_count": 22,
   "metadata": {},
   "outputs": [
    {
     "data": {
      "image/png": "[encoded data removed]",
      "text/latex": [
       "$$\\left [ \\frac{R T}{P}\\right ]$$"
      ],
      "text/plain": [
       "⎡R⋅T⎤\n",
       "⎢───⎥\n",
       "⎣ P ⎦"
      ]
     },
     "execution_count": 22,
     "metadata": {},
     "output_type": "execute_result"
    }
   ],
   "source": [
    "P,V,R,T=symbols('P V R T') # a quick way to create sympy variables\n",
    "\n",
    "solution = solve(P*V-R*T,V)\n",
    "solution"
   ]
  },
  {
   "cell_type": "markdown",
   "metadata": {},
   "source": [
    "There is one solution, select it using `[0]`, then substitute $R=0.08206$, $T=300$, $P=100$ to get $V$:"
   ]
  },
  {
   "cell_type": "code",
   "execution_count": 23,
   "metadata": {},
   "outputs": [
    {
     "data": {
      "image/png": "[encoded data removed]",
      "text/latex": [
       "$$0.24618$$"
      ],
      "text/plain": [
       "0.246180000000000"
      ]
     },
     "execution_count": 23,
     "metadata": {},
     "output_type": "execute_result"
    }
   ],
   "source": [
    "V=solution[0].subs([(R,0.08206),(T,300),(P,100)])\n",
    "V"
   ]
  },
  {
   "cell_type": "markdown",
   "metadata": {},
   "source": [
    "Display total number of moles:"
   ]
  },
  {
   "cell_type": "code",
   "execution_count": 24,
   "metadata": {},
   "outputs": [
    {
     "name": "stdout",
     "output_type": "stream",
     "text": [
      "nmoles = 10155.17\n"
     ]
    }
   ],
   "source": [
    "print('nmoles = {:3.2f}'.format(2.5*1000/V))"
   ]
  },
  {
   "cell_type": "markdown",
   "metadata": {
    "collapsed": true
   },
   "source": [
    "# Gas Volume Calculations from Various Equations of State - van der Waals equation (Problem 1-8b)\n",
    "Using the van der Waals equation $\\left(P+\\frac{a}{V^2}\\right)\\left(V-b\\right)=RT$, solve for gas molar volume $V$ given $P$, $R$, and $T$.  Like with Problem 1-8a, utilize a symbolic solver to find the value of $V$.  \n",
    "\n",
    "\n",
    "Like the previous example, we will define the symbolic variables and then solve the equation:\n",
    "\n",
    "$$\\left(P+\\frac{a}{V^2}\\right)\\left(V-b\\right)-RT=0$$\n"
   ]
  },
  {
   "cell_type": "code",
   "execution_count": 25,
   "metadata": {},
   "outputs": [
    {
     "name": "stdout",
     "output_type": "stream",
     "text": [
      "Number of solutions: 3\n"
     ]
    }
   ],
   "source": [
    "P,T,V,R,a,b=symbols('P T V R a b') # a quick way to create sympy variables\n",
    "\n",
    "solutions = solve((P+a/(V**2))*(V-b)-R*T,V)\n",
    "print('Number of solutions: {}'.format(len(solutions)))"
   ]
  },
  {
   "cell_type": "markdown",
   "metadata": {},
   "source": [
    "From the symbolic math solver, there are three solutions.  First relate $a$ and $b$ as to critical temperature and critical pressure:\n",
    "\n",
    "$$a=\\frac{27}{64}\\frac{R^2T_C^2}{P_C}$$\n",
    "\n",
    "$$b=\\frac{RT_C}{8P_C}$$\n",
    "\n",
    "For each of the three solutions, substitue these values for the constants:\n",
    "\n",
    "$$R=0.08206$$\n",
    "\n",
    "$$Tc=304.2$$\n",
    "\n",
    "$$Pc=72.9$$\n",
    "\n",
    "$$T=300$$\n",
    "\n",
    "$$P=100$$\n"
   ]
  },
  {
   "cell_type": "code",
   "execution_count": 26,
   "metadata": {},
   "outputs": [
    {
     "name": "stdout",
     "output_type": "stream",
     "text": [
      "0.0795717110889382\n",
      "0.127028446221984 + 0.0446457022983378/(-1/2 - sqrt(3)*I/2) + 0.0307008124771278*sqrt(3)*I\n",
      "0.127028446221984 - 0.0307008124771278*sqrt(3)*I + 0.0446457022983378/(-1/2 + sqrt(3)*I/2)\n"
     ]
    }
   ],
   "source": [
    "Tc = 304.2\n",
    "Pc = 72.9\n",
    "for soln in solutions:\n",
    "    print(soln.subs([(T,300),(P,100),(a,27*(R**2*Tc**2/Pc)/64),(b,R*Tc/(8*Pc)),(R,0.08206)]))"
   ]
  },
  {
   "cell_type": "markdown",
   "metadata": {
    "collapsed": true
   },
   "source": [
    "In the list of the three solutions, only one is not complex, this value (0.07957) is the correct solution.\n"
   ]
  },
  {
   "cell_type": "markdown",
   "metadata": {},
   "source": [
    "# Bubble Point Calculation for an Ideal Binary Mixture (Problem 1-9)\n",
    "\n",
    "This example calculates the Bubble point temperature $T_{bp}$ for an ideal binary mixture.  Vapor pressure for each compound is described by the Antoine equation:\n",
    "\n",
    "$$\\log_{10}(P_{vap})=A-\\frac{B}{T+C}$$\n",
    "\n",
    "Where $A$, $B$, and $C$ are compound specific constants.  We could use `sympy` again to solve this problem algebraically, but lets instead use the `root` function from `scipy` to find the root iteratively.  First define an objective function defining the mole fraction of species A and using the equation for vapor pressure and vapor mole fraction as a function of $T_{bp}$:"
   ]
  },
  {
   "cell_type": "code",
   "execution_count": 27,
   "metadata": {},
   "outputs": [
    {
     "name": "stdout",
     "output_type": "stream",
     "text": [
      "Problem 1-9. Objective function at the initial estimate (Tbp= 100.00): 1342.61\n",
      "Problem 1-9. Objective function at the solution (Tbp= 63.66): 0.00\n"
     ]
    }
   ],
   "source": [
    "def fun1_9(Tbp):\n",
    "    xA = 0.1\n",
    "    PA = 10**(6.85221-1064.63/(Tbp+232))\n",
    "    PB = 10**(6.87776-1171.53/(224.366+Tbp))\n",
    "    xB = 1-xA\n",
    "    yA = xA*PA/760\n",
    "    yB = xB*PB/760\n",
    "    f = xA*PA+xB*PB-760\n",
    "    return(f)\n",
    " \n",
    "xguess=100;\n",
    "print('Problem 1-9. Objective function at the initial estimate (Tbp= {:3.2f}): {:3.2f}'.format(xguess,fun1_9(xguess)))\n",
    "xsolv=root(fun1_9,xguess); #Use fsolve  to solve the equation/s\n",
    "print('Problem 1-9. Objective function at the solution (Tbp= {:3.2f}): {:3.2f}'.format(xsolv.x[0],fun1_9(xsolv.x[0])))\n"
   ]
  },
  {
   "cell_type": "markdown",
   "metadata": {},
   "source": [
    "# Adiabatic Flame Temperature for Natural Gas Combustion (Problem 1-12)\n",
    "\n",
    "Calculate the adiabatic flame temperature $T_ad$ that satisfies the equations:\n",
    "\n",
    "$$H_f = H_0+212798yx+372820zx$$\n",
    "\n",
    "$$H_f = \\alpha T_{ad}+0.001\\beta\\frac{T_{ad}^2}{2}+10^{-6}\\gamma\\frac{T_{ad}^3}{3}$$\n",
    "\n",
    "Where $x,y,z,\\alpha,\\beta,\\gamma$ are known parameters.  To solve this cubic equation, use `scipy`'s `root` function.  First define the objective function:"
   ]
  },
  {
   "cell_type": "code",
   "execution_count": 28,
   "metadata": {
    "collapsed": true
   },
   "outputs": [],
   "source": [
    "def fun1_12(T):\n",
    "    y = 0.75;\n",
    "    x = 0.5;\n",
    "    z = 1-y-0.02;\n",
    "    if x<1:\n",
    "        CH4 = y*(1-x);\n",
    "        C2H6 =z*(1-x);\n",
    "        CO2 =(y+2*z)*x;\n",
    "        H2O =(2*y+3*z)*x;\n",
    "        N2 = 0.02+3.76*(2*y+7*z/2)*x;\n",
    "        O2 =0;\n",
    "        xx=x;\n",
    "    else:\n",
    "        CH4 =0;\n",
    "        C2H6 =0;\n",
    "        CO2 =(y+2*z);\n",
    "        H2O =(2*y+3*z);\n",
    "        N2 = 0.02+3.76*(2*y+7*z/2)*x\n",
    "        O2 = (2 * y + 7 * z / 2) * (x - 1)\n",
    "        xx=1;\n",
    "\n",
    "    alp = 3.381 * CH4 + 2.247 * C2H6 + 6.214 * CO2 + 7.256 * H2O + 6.524 * N2 + 6.148 * O2;\n",
    "    bet = 18.044 * CH4 + 38.201 * C2H6 + 10.396 * CO2 + 2.298 * H2O + 1.25 * N2 + 3.102 * O2;\n",
    "    gam = -4.3 * CH4 - 11.049 * C2H6 - 3.545 * CO2 + 0.283 * H2O - 0.001 * N2 - 0.923 * O2;\n",
    "    H0 = alp * 298 + bet * 0.001 * 298 * 298 / 2 + gam * 1e-6 * 298 ** 3 / 3;\n",
    "    Hf = alp * T + bet * 0.001 * T ** 2 / 2 + gam * 1e-6 * T ** 3 / 3\n",
    "    f = 212798*y*xx+372820*z*xx+H0-Hf\n",
    "    return(f)"
   ]
  },
  {
   "cell_type": "markdown",
   "metadata": {},
   "source": [
    "Next, use an initial guess and calculate $T_{ad}$"
   ]
  },
  {
   "cell_type": "code",
   "execution_count": 29,
   "metadata": {},
   "outputs": [
    {
     "name": "stdout",
     "output_type": "stream",
     "text": [
      "Problem 1-12. Objective function at the initial estimate (Tad= 1000.00): 83404.39\n",
      "Problem 1-12. Objective function at the solution (Tad= 2197.99): 0.00\n"
     ]
    }
   ],
   "source": [
    "xguess=1000\n",
    "print('Problem 1-12. Objective function at the initial estimate (Tad= {:3.2f}): {:3.2f}'.format(xguess,fun1_12(xguess)))\n",
    "xsolv=root(fun1_12,xguess); #Use fsolve  to solve the equation/s\n",
    "print('Problem 1-12. Objective function at the solution (Tad= {:3.2f}): {:3.2f}'.format(xsolv.x[0],fun1_12(xsolv.x[0])))"
   ]
  },
  {
   "cell_type": "markdown",
   "metadata": {},
   "source": [
    "The final value of $T_{ad} = 2198^{\\circ} K$ seems reasonable and is a valid solution for the objective function"
   ]
  },
  {
   "cell_type": "markdown",
   "metadata": {},
   "source": [
    "# Unsteady State Mixing in a Tank (Problem 1-13)\n",
    "\n",
    "This problem examines a salt-containing stream mixing into in a stirred tank.  To determine the tank composition as a function of time, these differential equations must be solved:\n",
    "\n",
    "$$\\frac{dM}{dt}=10$$\n",
    "$$\\frac{dS}{dt}=2-10\\frac{S}{M}$$\n",
    "\n",
    "Where at $t=0$, $M=1000$ and $S=200$  Solving differential equations in Python is easy, using `scipy`'s `integrate` functionality.  Like in Matlab, first define a function that calculates $\\frac{dM}{dt}$ and $\\frac{dS}{dt}$ given $M$ and $S$:\n"
   ]
  },
  {
   "cell_type": "code",
   "execution_count": 30,
   "metadata": {
    "collapsed": true
   },
   "outputs": [],
   "source": [
    "# import integration functionality\n",
    "from scipy import integrate\n",
    "\n",
    "# define function to calculate derivative\n",
    "def dydt1_13(y,t):\n",
    "    M=y[0]\n",
    "    S=y[1]\n",
    "    dydt=[10,2-10*S/M]\n",
    "    return(dydt)"
   ]
  },
  {
   "cell_type": "markdown",
   "metadata": {},
   "source": [
    "Next, define the range of timepoints to consider, and then solve the ODEs:"
   ]
  },
  {
   "cell_type": "code",
   "execution_count": 31,
   "metadata": {
    "collapsed": true
   },
   "outputs": [],
   "source": [
    "tstart=0\n",
    "tfinal=60\n",
    "trange=np.linspace(tstart,tfinal,num=50)\n",
    "y0=[1000, 200]\n",
    "\n",
    "# solve the ODEs:\n",
    "Y = integrate.odeint(dydt1_13, y0,trange)                                                              "
   ]
  },
  {
   "cell_type": "markdown",
   "metadata": {},
   "source": [
    "Collect and display results at the start and end times of the inegration:"
   ]
  },
  {
   "cell_type": "code",
   "execution_count": 32,
   "metadata": {},
   "outputs": [
    {
     "data": {
      "text/html": [
       "<div>\n",
       "<style>\n",
       "    .dataframe thead tr:only-child th {\n",
       "        text-align: right;\n",
       "    }\n",
       "\n",
       "    .dataframe thead th {\n",
       "        text-align: left;\n",
       "    }\n",
       "\n",
       "    .dataframe tbody tr th {\n",
       "        vertical-align: top;\n",
       "    }\n",
       "</style>\n",
       "<table border=\"1\" class=\"dataframe\">\n",
       "  <thead>\n",
       "    <tr style=\"text-align: right;\">\n",
       "      <th></th>\n",
       "      <th>M</th>\n",
       "      <th>S</th>\n",
       "      <th>SaltPC</th>\n",
       "      <th>Time</th>\n",
       "      <th>dMdt</th>\n",
       "      <th>dSdt</th>\n",
       "    </tr>\n",
       "  </thead>\n",
       "  <tbody>\n",
       "    <tr>\n",
       "      <th>Initial</th>\n",
       "      <td>1000</td>\n",
       "      <td>200</td>\n",
       "      <td>20.0</td>\n",
       "      <td>0</td>\n",
       "      <td>10</td>\n",
       "      <td>0.000000</td>\n",
       "    </tr>\n",
       "    <tr>\n",
       "      <th>Final</th>\n",
       "      <td>1000</td>\n",
       "      <td>200</td>\n",
       "      <td>20.0</td>\n",
       "      <td>60</td>\n",
       "      <td>10</td>\n",
       "      <td>0.609375</td>\n",
       "    </tr>\n",
       "  </tbody>\n",
       "</table>\n",
       "</div>"
      ],
      "text/plain": [
       "            M    S  SaltPC  Time  dMdt      dSdt\n",
       "Initial  1000  200    20.0     0    10  0.000000\n",
       "Final    1000  200    20.0    60    10  0.609375"
      ]
     },
     "execution_count": 32,
     "metadata": {},
     "output_type": "execute_result"
    }
   ],
   "source": [
    "results =[]\n",
    "results.append({'Time':tstart,'M':y0[0],'S':y0[1],\n",
    "                'SaltPC':100*y0[1]/y0[0],\n",
    "                'dMdt':dydt1_13(y0,tstart)[0],\n",
    "                'dSdt':dydt1_13(y0,tstart)[1]})\n",
    "results.append({'Time':tfinal,'M':y0[0],'S':y0[1],\n",
    "                'SaltPC':100*y0[1]/y0[0],\n",
    "                'dMdt':dydt1_13(Y[-1],tstart)[0],\n",
    "                'dSdt':dydt1_13(Y[-1],tfinal)[1]})\n",
    "pd.DataFrame(results,index=['Initial','Final'])"
   ]
  },
  {
   "cell_type": "markdown",
   "metadata": {
    "collapsed": true
   },
   "source": [
    "Plot the total amount and % of salt over time:"
   ]
  },
  {
   "cell_type": "code",
   "execution_count": 33,
   "metadata": {},
   "outputs": [
    {
     "data": {
      "image/png": "[encoded data removed]",
      "text/plain": [
       "<matplotlib.figure.Figure at 0x7f1b58f9c5c0>"
      ]
     },
     "metadata": {},
     "output_type": "display_data"
    },
    {
     "data": {
      "image/png": "[encoded data removed]",
      "text/plain": [
       "<matplotlib.figure.Figure at 0x7f1b959bca90>"
      ]
     },
     "metadata": {},
     "output_type": "display_data"
    }
   ],
   "source": [
    "plt.figure()\n",
    "plt.plot(trange,Y[:,1])\n",
    "plt.title(' Unsteady State Mixing in a Tank')\n",
    "plt.xlabel('Time (min)');\n",
    "plt.ylabel('Amount of salt (kg)');\n",
    "\n",
    "plt.figure()\n",
    "SaltPC=100*Y[:,1]/Y[:,0];\n",
    "plt.plot(trange,SaltPC);\n",
    "plt.title(' Unsteady State Mixing in a Tank')\n",
    "plt.xlabel('Time (min)');\n",
    "plt.ylabel('Percentage of salt');"
   ]
  },
  {
   "cell_type": "markdown",
   "metadata": {},
   "source": [
    "# Heat Exchange in a Series of Tanks (Problem 1-15a)\n",
    "\n",
    "Here we model three identical well mixed tanks that are connected in series.  We wish to model the temperature trends at start up with when each tank is heated identically.  The differential equations to solve are:\n",
    "\n",
    "$$\\frac{dT_1}{dt}=\\frac{WC_P\\left(T_0-T_1\\right)+UA\\left(T_{steam}-T_1\\right)}{MC_P}$$\n",
    "\n",
    "$$\\frac{dT_2}{dt}=\\frac{WC_P\\left(T_1-T_2\\right)+UA\\left(T_{steam}-T_2\\right)}{MC_P}$$\n",
    "\n",
    "$$\\frac{dT_3}{dt}=\\frac{WC_P\\left(T_2-T_3\\right)+UA\\left(T_{steam}-T_3\\right)}{MC_P}$$\n",
    "\n",
    "Where at $t=0$, $T_0=T_1=T_2=T_3=20$\n",
    "\n",
    "Held constant are tank volume  $M=1000$, flowrate $W=200$ liquid heat capacity $C_P=2$, Heat transfer coefficient $UA=10$ and jacket temperature $T_{steam}=250$  Like the last example, first define the problem:\n",
    "\n"
   ]
  },
  {
   "cell_type": "code",
   "execution_count": 34,
   "metadata": {
    "collapsed": true
   },
   "outputs": [],
   "source": [
    "# define constants- these will be available to the dydt function:\n",
    "W=100\n",
    "Cp=2.0\n",
    "T0=20\n",
    "UA=10\n",
    "Tsteam=250\n",
    "M=1000\n",
    "\n",
    "def dydt1_15a(y,t):\n",
    "    T1=y[0]\n",
    "    T2=y[1]\n",
    "    T3=y[2]\n",
    "    dydt=[(W*Cp*(T0-T1)+UA*(Tsteam-T1))/(M*Cp),\n",
    "    (W*Cp*(T1-T2)+UA*(Tsteam-T2))/(M*Cp),\n",
    "    (W*Cp*(T2-T3)+UA*(Tsteam-T3))/(M*Cp)]\n",
    "    return(dydt)"
   ]
  },
  {
   "cell_type": "markdown",
   "metadata": {},
   "source": [
    "Then solve the problem:"
   ]
  },
  {
   "cell_type": "code",
   "execution_count": 35,
   "metadata": {
    "collapsed": true
   },
   "outputs": [],
   "source": [
    "tstart=0;\n",
    "tfinal=200;\n",
    "trange = np.linspace(tstart,tfinal,num=50)\n",
    "y0=[20, 20, 20]\n",
    "Y=integrate.odeint(dydt1_15a,y0,trange)"
   ]
  },
  {
   "cell_type": "markdown",
   "metadata": {},
   "source": [
    "Print out conditions at the initial and final timepoints:"
   ]
  },
  {
   "cell_type": "code",
   "execution_count": 36,
   "metadata": {},
   "outputs": [
    {
     "data": {
      "text/html": [
       "<div>\n",
       "<style>\n",
       "    .dataframe thead tr:only-child th {\n",
       "        text-align: right;\n",
       "    }\n",
       "\n",
       "    .dataframe thead th {\n",
       "        text-align: left;\n",
       "    }\n",
       "\n",
       "    .dataframe tbody tr th {\n",
       "        vertical-align: top;\n",
       "    }\n",
       "</style>\n",
       "<table border=\"1\" class=\"dataframe\">\n",
       "  <thead>\n",
       "    <tr style=\"text-align: right;\">\n",
       "      <th></th>\n",
       "      <th>Cp</th>\n",
       "      <th>M</th>\n",
       "      <th>T0</th>\n",
       "      <th>T1</th>\n",
       "      <th>T2</th>\n",
       "      <th>T3</th>\n",
       "      <th>Time</th>\n",
       "      <th>Tsteam</th>\n",
       "      <th>UA</th>\n",
       "      <th>W</th>\n",
       "      <th>dT1dt</th>\n",
       "      <th>dT2dt</th>\n",
       "      <th>dT3dt</th>\n",
       "    </tr>\n",
       "  </thead>\n",
       "  <tbody>\n",
       "    <tr>\n",
       "      <th>Initial</th>\n",
       "      <td>2.0</td>\n",
       "      <td>1000</td>\n",
       "      <td>20</td>\n",
       "      <td>20.000000</td>\n",
       "      <td>20.00000</td>\n",
       "      <td>20.00000</td>\n",
       "      <td>0</td>\n",
       "      <td>250</td>\n",
       "      <td>10</td>\n",
       "      <td>100</td>\n",
       "      <td>1.150000e+00</td>\n",
       "      <td>1.150000e+00</td>\n",
       "      <td>1.150000e+00</td>\n",
       "    </tr>\n",
       "    <tr>\n",
       "      <th>Final</th>\n",
       "      <td>2.0</td>\n",
       "      <td>1000</td>\n",
       "      <td>20</td>\n",
       "      <td>30.952381</td>\n",
       "      <td>41.38322</td>\n",
       "      <td>51.31735</td>\n",
       "      <td>200</td>\n",
       "      <td>250</td>\n",
       "      <td>10</td>\n",
       "      <td>100</td>\n",
       "      <td>8.570971e-10</td>\n",
       "      <td>1.813058e-08</td>\n",
       "      <td>1.916444e-07</td>\n",
       "    </tr>\n",
       "  </tbody>\n",
       "</table>\n",
       "</div>"
      ],
      "text/plain": [
       "          Cp     M  T0         T1        T2        T3  Time  Tsteam  UA    W  \\\n",
       "Initial  2.0  1000  20  20.000000  20.00000  20.00000     0     250  10  100   \n",
       "Final    2.0  1000  20  30.952381  41.38322  51.31735   200     250  10  100   \n",
       "\n",
       "                dT1dt         dT2dt         dT3dt  \n",
       "Initial  1.150000e+00  1.150000e+00  1.150000e+00  \n",
       "Final    8.570971e-10  1.813058e-08  1.916444e-07  "
      ]
     },
     "execution_count": 36,
     "metadata": {},
     "output_type": "execute_result"
    }
   ],
   "source": [
    "results =[]\n",
    "results.append({'Time':tstart,'T1':y0[0],'T2':y0[1],'T3':y0[2],\n",
    "                'W':W,'T0':T0,'UA':UA,'M':M,'Tsteam':Tsteam,'Cp':Cp,\n",
    "                'dT1dt':dydt1_15a(y0,tstart)[0],\n",
    "                'dT2dt':dydt1_15a(y0,tstart)[1],\n",
    "                'dT3dt':dydt1_15a(y0,tstart)[2]})\n",
    "results.append({'Time':tfinal,'T1':Y[-1,0],'T2':Y[-1,1],'T3':Y[-1,2],\n",
    "                'W':W,'T0':T0,'UA':UA,'M':M,'Tsteam':Tsteam,'Cp':Cp,\n",
    "                'dT1dt':dydt1_15a(Y[-1],tfinal)[0],\n",
    "                'dT2dt':dydt1_15a(Y[-1],tfinal)[1],\n",
    "                'dT3dt':dydt1_15a(Y[-1],tfinal)[2]})\n",
    "pd.DataFrame(results,index=['Initial','Final'])"
   ]
  },
  {
   "cell_type": "markdown",
   "metadata": {},
   "source": [
    "Plot the trends over time:"
   ]
  },
  {
   "cell_type": "code",
   "execution_count": 37,
   "metadata": {},
   "outputs": [
    {
     "data": {
      "text/plain": [
       "<matplotlib.legend.Legend at 0x7f1b57eb7dd8>"
      ]
     },
     "execution_count": 37,
     "metadata": {},
     "output_type": "execute_result"
    },
    {
     "data": {
      "image/png": "[encoded data removed]",
      "text/plain": [
       "<matplotlib.figure.Figure at 0x7f1b5d0dce80>"
      ]
     },
     "metadata": {},
     "output_type": "display_data"
    }
   ],
   "source": [
    "plt.plot(trange,Y);\n",
    "plt.title(' Heat Exchange in a Series of Tanks')\n",
    "plt.xlabel('Time (min)')\n",
    "plt.ylabel('Temperature (deg. C)')\n",
    "plt.legend(['T1','T2','T3'],loc='best')"
   ]
  },
  {
   "cell_type": "markdown",
   "metadata": {
    "collapsed": true
   },
   "source": [
    "From the trends, it appears that the tanks reach a steady state after about an hour"
   ]
  },
  {
   "cell_type": "markdown",
   "metadata": {
    "collapsed": true
   },
   "source": [
    "# Conclusion\n",
    "Python has been used here to solve some of the classic problems present in chemical engineering: linear regression, non-linear regression, and differential equations.  Its easy to get data into and results out of Python via the `pandas` and `matplotlib` modules.  Sharing portable reproducible work: inputs, code, and results is super simple when using a Jupyter notebook.  Beyond chemical engineering problem solving, Python is a great tool to learn for anyone working with multiple files, web sites, and untidy data looking to maximize their productivity."
   ]
  }
 ],
 "metadata": {
  "kernelspec": {
   "display_name": "Python [conda root]",
   "language": "python",
   "name": "conda-root-py"
  },
  "language_info": {
   "codemirror_mode": {
    "name": "ipython",
    "version": 3
   },
   "file_extension": ".py",
   "mimetype": "text/x-python",
   "name": "python",
   "nbconvert_exporter": "python",
   "pygments_lexer": "ipython3",
   "version": "3.5.3"
  }
 },
 "nbformat": 4,
 "nbformat_minor": 2
}
